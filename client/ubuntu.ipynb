{
 "cells": [
  {
   "attachments": {},
   "cell_type": "markdown",
   "metadata": {},
   "source": [
    "# Setting up a lab client with Ubuntu 22.10"
   ]
  },
  {
   "attachments": {},
   "cell_type": "markdown",
   "metadata": {},
   "source": [
    "Access the IBM Techzone and reserve a small linux server. This is the recommended option that we will use in the following steps:\n",
    "\n",
    "![](../pictures/ubuntu_client1.png)\n",
    "\n"
   ]
  },
  {
   "attachments": {},
   "cell_type": "markdown",
   "metadata": {},
   "source": [
    "Please enter the following parameters during your reservation:"
   ]
  },
  {
   "cell_type": "markdown",
   "metadata": {},
   "source": [
    "\n",
    "\n",
    "![](../pictures/ubuntu_client2.png)"
   ]
  },
  {
   "attachments": {},
   "cell_type": "markdown",
   "metadata": {},
   "source": [
    "The reservation usually takes about 15-20 minutes to complete and you will get an email indicating that your system is ready. Please, click on the link that points to your reservation because we will use some information for the next steps:\n",
    "\n",
    "![](../pictures/logindata.png)"
   ]
  },
  {
   "attachments": {},
   "cell_type": "markdown",
   "metadata": {},
   "source": [
    "Now, assuming that your laptop runs MacOS, linux native or a linux VM on windows, issue the following commands in a terminal window of your local machine but change the external IP address and the PEM file with the data given at the end of the reservation page in the Techzone (see the picture above). You will be logged in your new system for the first time:"
   ]
  },
  {
   "cell_type": "code",
   "execution_count": null,
   "metadata": {
    "vscode": {
     "languageId": "shellscript"
    }
   },
   "outputs": [],
   "source": [
    "# LOGIN CELL\n",
    "export EXTERNAL_IPADDR=___replace_with_the_external_address_ip_address_of_the_lab_client__\n",
    "export PEM_FILE=___replace_with_the_file_downloaded_from_the_reservation_button_____\n",
    "# Don't forget to change the file permissions\n",
    "chmod 600 $PEM_FILE\n",
    "\n",
    "ssh itzuser@$EXTERNAL_IPADDR -p 2223 -i $PEM_FILE"
   ]
  },
  {
   "attachments": {},
   "cell_type": "markdown",
   "metadata": {},
   "source": [
    "The first thing you must do after logging is to clone the git repository of the workshop containing all the materials. Run this command on the lab client"
   ]
  },
  {
   "cell_type": "code",
   "execution_count": null,
   "metadata": {
    "vscode": {
     "languageId": "shellscript"
    }
   },
   "outputs": [],
   "source": [
    "# Clone the workshop repository in the lab client\n",
    "git clone https://github.com/angel-ibm/deployment-databand.git"
   ]
  },
  {
   "attachments": {},
   "cell_type": "markdown",
   "metadata": {},
   "source": [
    "And now, you have two options:\n",
    "\n",
    "- A: run a single script that installs all necessary packages\n",
    "- B: run every single command step-by-step to do the same (only necessary if something goes wrong)"
   ]
  },
  {
   "attachments": {},
   "cell_type": "markdown",
   "metadata": {},
   "source": [
    "## A. Single install script"
   ]
  },
  {
   "cell_type": "code",
   "execution_count": null,
   "metadata": {
    "vscode": {
     "languageId": "shellscript"
    }
   },
   "outputs": [],
   "source": [
    "# Run this cell in the lab client to install automaticall all necessary packages\n",
    "cd ~/deployment-databand/client\n",
    "./ubuntu.sh"
   ]
  },
  {
   "attachments": {},
   "cell_type": "markdown",
   "metadata": {},
   "source": [
    "If everything went well and you see jupyter lab starting, you are done. Skip the next section."
   ]
  },
  {
   "attachments": {},
   "cell_type": "markdown",
   "metadata": {},
   "source": [
    "## B. Step-by-step installation\n",
    "\n",
    "You may want to run the following steps if something went wrong with the single install script or if you just want to follow the process"
   ]
  },
  {
   "cell_type": "code",
   "execution_count": null,
   "metadata": {
    "vscode": {
     "languageId": "shellscript"
    }
   },
   "outputs": [],
   "source": [
    "# Create an alias for python3\n",
    "sudo apt update -y\n",
    "sudo apt upgrade -y\n",
    "\n",
    "echo \"alias python=python3\" >> .bash_aliases\n",
    ". ./.bash_aliases "
   ]
  },
  {
   "cell_type": "code",
   "execution_count": null,
   "metadata": {
    "vscode": {
     "languageId": "shellscript"
    }
   },
   "outputs": [],
   "source": [
    "# Install pip\n",
    "sudo apt install python3-pip -y"
   ]
  },
  {
   "cell_type": "code",
   "execution_count": null,
   "metadata": {
    "vscode": {
     "languageId": "shellscript"
    }
   },
   "outputs": [],
   "source": [
    "# Install Jupyter Notebooks\n",
    "sudo apt install jupyter -y\n",
    "pip install --upgrade jupyter_core\n",
    "pip install jupyterlab\n",
    "pip install bash_kernel\n",
    "python -m bash_kernel.install\n",
    "pip install markupsafe==2.0.1\n",
    ". ./.profile"
   ]
  },
  {
   "cell_type": "code",
   "execution_count": null,
   "metadata": {
    "vscode": {
     "languageId": "shellscript"
    }
   },
   "outputs": [],
   "source": [
    "# Install snap\n",
    "sudo snap install yq\n",
    "\n",
    "# Install helm\n",
    "sudo snap install helm --classic\n",
    "\n",
    "# Install oc \n",
    "wget https://mirror.openshift.com/pub/openshift-v4/x86_64/clients/ocp/stable-4.10/openshift-client-linux-4.10.54.tar.gz\n",
    "tar -zxf openshift-client-linux-4.10.54.tar.gz\n",
    "sudo mv kubectl oc /usr/local/bin\n",
    "rm README.md openshift-client-linux-4.10.54.tar.gz"
   ]
  },
  {
   "cell_type": "code",
   "execution_count": null,
   "metadata": {
    "vscode": {
     "languageId": "shellscript"
    }
   },
   "outputs": [],
   "source": [
    "# Install docker\n",
    "sudo apt-get install ca-certificates curl gnupg\n",
    "sudo mkdir -m 0755 -p /etc/apt/keyrings\n",
    "curl -fsSL https://download.docker.com/linux/ubuntu/gpg | sudo gpg --dearmor -o /etc/apt/keyrings/docker.gpg\n",
    "echo \\\n",
    "  \"deb [arch=\"$(dpkg --print-architecture)\" signed-by=/etc/apt/keyrings/docker.gpg] https://download.docker.com/linux/ubuntu \\\n",
    "  \"$(. /etc/os-release && echo \"$VERSION_CODENAME\")\" stable\" | \\\n",
    "  sudo tee /etc/apt/sources.list.d/docker.list > /dev/null\n",
    "sudo apt-get update\n",
    "sudo apt-get install docker-ce docker-ce-cli containerd.io docker-buildx-plugin docker-compose-plugin -y\n",
    "sudo usermod -aG docker $USER"
   ]
  },
  {
   "cell_type": "code",
   "execution_count": null,
   "metadata": {
    "vscode": {
     "languageId": "shellscript"
    }
   },
   "outputs": [],
   "source": [
    "# Start Jupyter\n",
    "\n",
    "jupyter lab --ip 0.0.0.0 --port 8080 --notebook-dir ~/deployment-databand"
   ]
  },
  {
   "attachments": {},
   "cell_type": "markdown",
   "metadata": {},
   "source": [
    "## Important considerations\n",
    "\n",
    "This section provided instructions for setting up a lab client with all necessary modules and packages in order that you don't have to use your own laptop. However, there are things that we cannot (or may not) do automatically for you:\n",
    "\n",
    "- downloading the databand images (this is commercial software)\n",
    "- setting up DataStage (that must be done with CloudPak for Data)\n",
    "- provision an OpenShift cluster\n",
    "\n",
    "Those activities are covered in other sections of the workshop."
   ]
  }
 ],
 "metadata": {
  "kernelspec": {
   "display_name": "Bash",
   "language": "bash",
   "name": "bash"
  },
  "language_info": {
   "codemirror_mode": "shell",
   "file_extension": ".sh",
   "mimetype": "text/x-sh",
   "name": "bash"
  },
  "orig_nbformat": 4
 },
 "nbformat": 4,
 "nbformat_minor": 2
}
