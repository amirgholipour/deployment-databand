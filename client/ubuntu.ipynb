{
 "cells": [
  {
   "attachments": {},
   "cell_type": "markdown",
   "metadata": {},
   "source": [
    "# Setup Instructions for Ubuntu 22.10"
   ]
  },
  {
   "attachments": {},
   "cell_type": "markdown",
   "metadata": {},
   "source": [
    "Run this on your local machine but change the external IP address and the PEM file with the data viven in the reservation email from the TechZone"
   ]
  },
  {
   "cell_type": "code",
   "execution_count": null,
   "metadata": {
    "vscode": {
     "languageId": "shellscript"
    }
   },
   "outputs": [],
   "source": [
    "# LOGIN CELL\n",
    "export EXTERNAL_IPADDR=159.122.199.26\n",
    "export PEM_FILE=ub.pem\n",
    "chmod 600 $PEM_FILE\n",
    "\n",
    "ssh itzuser@$EXTERNAL_IPADDR -p 2223 -i $PEM_FILE"
   ]
  },
  {
   "attachments": {},
   "cell_type": "markdown",
   "metadata": {},
   "source": [
    "Run this on the remote client"
   ]
  },
  {
   "cell_type": "code",
   "execution_count": null,
   "metadata": {
    "vscode": {
     "languageId": "shellscript"
    }
   },
   "outputs": [],
   "source": [
    "# create an alias for Python\n",
    "sudo apt update -y\n",
    "sudo apt upgrade -y"
   ]
  },
  {
   "attachments": {},
   "cell_type": "markdown",
   "metadata": {},
   "source": [
    "If a new window shows informing about the activation of new kernel there choose defaults and reboot (simply sudo reboot)"
   ]
  },
  {
   "cell_type": "code",
   "execution_count": null,
   "metadata": {
    "vscode": {
     "languageId": "shellscript"
    }
   },
   "outputs": [],
   "source": [
    "# Create an alias for python3\n",
    "echo \"alias python=python3\" >> .bash_aliases\n",
    ". ./.bash_aliases "
   ]
  },
  {
   "cell_type": "code",
   "execution_count": null,
   "metadata": {
    "vscode": {
     "languageId": "shellscript"
    }
   },
   "outputs": [],
   "source": [
    "# Install pip\n",
    "sudo apt install python3-pip -y"
   ]
  },
  {
   "cell_type": "code",
   "execution_count": null,
   "metadata": {
    "vscode": {
     "languageId": "shellscript"
    }
   },
   "outputs": [],
   "source": [
    "# Install Jupyter Notebooks\n",
    "sudo apt install jupyter -y\n",
    "pip install --upgrade jupyter_core\n",
    "pip install jupyterlab\n",
    "pip install bash_kernel\n",
    "python -m bash_kernel.install\n",
    "pip install markupsafe==2.0.1\n",
    ". ./.profile"
   ]
  },
  {
   "cell_type": "code",
   "execution_count": null,
   "metadata": {
    "vscode": {
     "languageId": "shellscript"
    }
   },
   "outputs": [],
   "source": [
    "# Clone the workshop repository\n",
    "git clone https://github.com/angel-ibm/deployment-databand.git"
   ]
  },
  {
   "cell_type": "code",
   "execution_count": null,
   "metadata": {
    "vscode": {
     "languageId": "shellscript"
    }
   },
   "outputs": [],
   "source": [
    "# Install snap\n",
    "sudo snap install yq\n",
    "\n",
    "# Install helm\n",
    "sudo snap install helm --classic\n",
    "\n",
    "# Install oc \n",
    "wget https://mirror.openshift.com/pub/openshift-v4/x86_64/clients/ocp/stable-4.10/openshift-client-linux-4.10.54.tar.gz\n",
    "tar -zxf openshift-client-linux-4.10.54.tar.gz\n",
    "sudo mv kubectl oc /usr/local/bin\n",
    "rm README.md openshift-client-linux-4.10.54.tar.gz"
   ]
  },
  {
   "cell_type": "code",
   "execution_count": null,
   "metadata": {
    "vscode": {
     "languageId": "shellscript"
    }
   },
   "outputs": [],
   "source": [
    "# Install docker\n",
    "sudo apt-get install ca-certificates curl gnupg\n",
    "sudo mkdir -m 0755 -p /etc/apt/keyrings\n",
    "curl -fsSL https://download.docker.com/linux/ubuntu/gpg | sudo gpg --dearmor -o /etc/apt/keyrings/docker.gpg\n",
    "echo \\\n",
    "  \"deb [arch=\"$(dpkg --print-architecture)\" signed-by=/etc/apt/keyrings/docker.gpg] https://download.docker.com/linux/ubuntu \\\n",
    "  \"$(. /etc/os-release && echo \"$VERSION_CODENAME\")\" stable\" | \\\n",
    "  sudo tee /etc/apt/sources.list.d/docker.list > /dev/null\n",
    "sudo apt-get update\n",
    "sudo apt-get install docker-ce docker-ce-cli containerd.io docker-buildx-plugin docker-compose-plugin -y\n",
    "sudo usermod -aG docker $USER"
   ]
  },
  {
   "cell_type": "code",
   "execution_count": null,
   "metadata": {
    "vscode": {
     "languageId": "shellscript"
    }
   },
   "outputs": [],
   "source": [
    "# Start Jupyter\n",
    "\n",
    "jupyter lab --ip 0.0.0.0 --port 8080 --notebook-dir ~/deployment-databand"
   ]
  }
 ],
 "metadata": {
  "kernelspec": {
   "display_name": "Bash",
   "language": "bash",
   "name": "bash"
  },
  "language_info": {
   "codemirror_mode": "shell",
   "file_extension": ".sh",
   "mimetype": "text/x-sh",
   "name": "bash"
  },
  "orig_nbformat": 4
 },
 "nbformat": 4,
 "nbformat_minor": 2
}
