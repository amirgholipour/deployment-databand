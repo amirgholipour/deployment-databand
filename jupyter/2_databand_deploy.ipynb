{
 "cells": [
  {
   "cell_type": "markdown",
   "metadata": {},
   "source": [
    "![](../pictures/Databand-logo.png)"
   ]
  },
  {
   "cell_type": "markdown",
   "metadata": {},
   "source": [
    "# Deploying Databand"
   ]
  },
  {
   "cell_type": "markdown",
   "metadata": {},
   "source": [
    "# 1. Preparing the environment\n",
    "\n",
    "## 1.1 Logging to the cluster\n",
    "\n",
    "First of all, we need a way to login to the custer from the command line. Open the Openshift Console and proceed as follows:\n"
   ]
  },
  {
   "cell_type": "markdown",
   "metadata": {},
   "source": [
    "\n",
    "![](../pictures/login1.png)\n"
   ]
  },
  {
   "cell_type": "markdown",
   "metadata": {},
   "source": [
    "\n",
    "After clicking on `Copy login command` a new tab displays the contents of the command you need to copy to the clipboard \n"
   ]
  },
  {
   "cell_type": "markdown",
   "metadata": {},
   "source": [
    "\n",
    "![](../pictures/login2.png)\n"
   ]
  },
  {
   "cell_type": "markdown",
   "metadata": {},
   "source": [
    "You need to paste the contents of the clipboard into the next cell"
   ]
  },
  {
   "cell_type": "code",
   "execution_count": null,
   "metadata": {
    "vscode": {
     "languageId": "shellscript"
    }
   },
   "outputs": [],
   "source": [
    "# Replace the command with your own one inside the single quotes and run the cell\n",
    "# Example OC_LOGIN_COMMAND='oc login --token=sha256~3bR5KXgwiUoaQiph2_kIXCDQnVfm_HQy3YwU2m-UOrs --server=https://c109-e.us-east.containers.cloud.ibm.com:31656'\n",
    "OC_LOGIN_COMMAND='oc login --token=sha256~e8tzZje9glRmHCZEftW7EAXr3FnP_TpYHTGjRq8p7po --server=https://c109-e.us-east.containers.cloud.ibm.com:31470'"
   ]
  },
  {
   "cell_type": "markdown",
   "metadata": {},
   "source": [
    "Now, you can test that it works by executing the next cell:"
   ]
  },
  {
   "cell_type": "code",
   "execution_count": null,
   "metadata": {
    "vscode": {
     "languageId": "shellscript"
    }
   },
   "outputs": [],
   "source": [
    "echo $OC_LOGIN_COMMAND\n",
    "$OC_LOGIN_COMMAND"
   ]
  },
  {
   "cell_type": "markdown",
   "metadata": {},
   "source": [
    "Please remember this command as you may need to issue it again if, for example,  you leave the jupyter session."
   ]
  },
  {
   "cell_type": "markdown",
   "metadata": {},
   "source": [
    "**Warning:** The token will expire and changes after some time. Don't be surprised if you need to repeat the same thing tomorrow for logging into the cluster again"
   ]
  },
  {
   "cell_type": "markdown",
   "metadata": {},
   "source": [
    "## 1.2 Expose the registry"
   ]
  },
  {
   "cell_type": "markdown",
   "metadata": {},
   "source": [
    "We will need to upload some docker images to the cluster image registry but, by default, it is not accesible after the provisioning. So, we will expose it with this command:"
   ]
  },
  {
   "cell_type": "code",
   "execution_count": null,
   "metadata": {
    "vscode": {
     "languageId": "shellscript"
    }
   },
   "outputs": [],
   "source": [
    "# This command exposes the registry\n",
    "oc patch configs.imageregistry.operator.openshift.io/cluster --patch '{\"spec\":{\"defaultRoute\":true}}' --type=merge"
   ]
  },
  {
   "cell_type": "markdown",
   "metadata": {},
   "source": [
    "To verify if the registry is really exposed now, run the following command:"
   ]
  },
  {
   "cell_type": "code",
   "execution_count": null,
   "metadata": {
    "vscode": {
     "languageId": "shellscript"
    }
   },
   "outputs": [],
   "source": [
    "# This command check if there is a network route associated the the image registry\n",
    "oc get route -n openshift-image-registry "
   ]
  },
  {
   "cell_type": "markdown",
   "metadata": {},
   "source": [
    "If something like \"No resources found\" is displayed, the patch command did not work. Stop here and fix it before continuing.\n"
   ]
  },
  {
   "cell_type": "markdown",
   "metadata": {
    "tags": []
   },
   "source": [
    "Now, we need to select the actual route out of this complicated output. Just run this:\n",
    "<a id='registry_url'></a>"
   ]
  },
  {
   "cell_type": "code",
   "execution_count": null,
   "metadata": {
    "tags": [
     "registry_url"
    ],
    "vscode": {
     "languageId": "shellscript"
    }
   },
   "outputs": [],
   "source": [
    "\n",
    "# This command extracts the portion of the registry route\n",
    "# Example: default-route-openshift-image-registry.itzroks-1100005cc8-4b30y2-4b4a324f027aea19c5cbc0c3275c4656-0000.us-east.containers.appdomain.cloud\n",
    "REGISTRY_URL=$(oc get route -n openshift-image-registry | grep default-route | awk '{print $2}')\n",
    "echo $REGISTRY_URL"
   ]
  },
  {
   "cell_type": "markdown",
   "metadata": {},
   "source": [
    "## 2. Preparing Docker images "
   ]
  },
  {
   "cell_type": "markdown",
   "metadata": {},
   "source": [
    "### 2.1 Loading images locally\n",
    "\n",
    "In the last part of the of the [prerequisites section](./0_prerequisites.ipynb) we downloaded the file `databand-1.0.19-helm-chart.tar.gz` (960MB). After decompressing it, we see something like this:\n",
    "\n",
    "    (base) Angel@AngelMac databand-1.0.19-helm-chart % ls -l\n",
    "    total 5050480\n",
    "    -rw-r--r--@ 1 Angel  staff      318291 13 feb 14:07 databand-1.0.19-7.tgz\n",
    "    -rw-------@ 1 Angel  staff  2579398656 13 feb 14:09 databand-v1.0.19.7-images.tar`\n",
    "\n",
    "Our task now is importing the databand images in the reqistry of our local computer. First, let's define the directory where these two files are located after decompressing the databand package file:"
   ]
  },
  {
   "cell_type": "code",
   "execution_count": null,
   "metadata": {
    "vscode": {
     "languageId": "shellscript"
    }
   },
   "outputs": [],
   "source": [
    "# Copy the directory where you decompressed the databand package into the clipboard and paste it in this cell. Please observe the single quotes.\n",
    "# Example: DATABAND_UNCOMPRESSED_DIR='/Users/Angel/Downloads/databand-1.0.19-helm-chart'\n",
    "# Then, run this cell:\n",
    "DATABAND_UNCOMPRESSED_DIR='paste_here_the_clipboard'\n",
    "echo $DATABAND_UNCOMPRESSED_DIR"
   ]
  },
  {
   "cell_type": "code",
   "execution_count": null,
   "metadata": {
    "vscode": {
     "languageId": "shellscript"
    }
   },
   "outputs": [],
   "source": [
    "# Run this cell. It will produce a very long output\n",
    "cd $DATABAND_UNCOMPRESSED_DIR\n",
    "ls -l\n",
    "DATABAND_IMAGES=$(ls databand*images.tar) \n",
    "docker load -i $DATABAND_IMAGES"
   ]
  },
  {
   "cell_type": "markdown",
   "metadata": {},
   "source": [
    "Run this command to verify that the load went well:"
   ]
  },
  {
   "cell_type": "code",
   "execution_count": null,
   "metadata": {
    "vscode": {
     "languageId": "shellscript"
    }
   },
   "outputs": [],
   "source": [
    "docker images"
   ]
  },
  {
   "cell_type": "markdown",
   "metadata": {},
   "source": [
    "### 2.2. Tagging images"
   ]
  },
  {
   "cell_type": "markdown",
   "metadata": {},
   "source": [
    "Now, we need to issue very cumbersome commands. Pay attention to the following steps.\n",
    "\n",
    "First, we need to ensure that we know the route to the registry. We set the variable `REGISTRY_URL` in a [previous cell](#registry_url) where we extracted just the route of the registry. We can run it once again to be sure that it is set and remember the manual circumvention as explained [here](#manual_registry_url) in case that the output is different from the expected."
   ]
  },
  {
   "cell_type": "code",
   "execution_count": null,
   "metadata": {
    "vscode": {
     "languageId": "shellscript"
    }
   },
   "outputs": [],
   "source": [
    "# This command extracts the portion of the registry route. We did it before but you can run it again to be sure\n",
    "# Example of expected output: default-route-openshift-image-registry.itzroks-1100005cc8-4b30y2-4b4a324f027aea19c5cbc0c3275c4656-0000.us-east.containers.appdomain.cloud\n",
    "REGISTRY_URL=$(oc get route -n openshift-image-registry | grep default-route | awk '{print $2}')\n",
    "echo $REGISTRY_URL"
   ]
  },
  {
   "cell_type": "markdown",
   "metadata": {},
   "source": [
    "Then, we need to retrieve our actual userid and password in the OpenShift cluster and log into the registry"
   ]
  },
  {
   "cell_type": "code",
   "execution_count": null,
   "metadata": {
    "vscode": {
     "languageId": "shellscript"
    }
   },
   "outputs": [],
   "source": [
    "# Run this cell. It is necessary to login to the registry (apart from being logged into the cluster itself)\n",
    "REGISTRY_USER=$(oc whoami)\n",
    "echo $REGISTRY_USER\n",
    "REGISTRY_PASS=$(oc whoami -t)\n",
    "echo $REGISTRY_PASS\n",
    "\n",
    "docker login -u $REGISTRY_USER -p $REGISTRY_PASS $REGISTRY_URL\n"
   ]
  },
  {
   "cell_type": "markdown",
   "metadata": {},
   "source": [
    "Now, we create a project in the cluster. Name it `databand` just for simplicity"
   ]
  },
  {
   "cell_type": "code",
   "execution_count": null,
   "metadata": {
    "vscode": {
     "languageId": "shellscript"
    }
   },
   "outputs": [],
   "source": [
    "# Run this cell. It will create an OpenShift project, which is equivalent to a namespace in Kubernetes terminology\n",
    "DATABAND_PROJECT=databand \n",
    "oc new-project $DATABAND_PROJECT"
   ]
  },
  {
   "attachments": {},
   "cell_type": "markdown",
   "metadata": {},
   "source": [
    "The next cell will avoid deployment problems under some conditions"
   ]
  },
  {
   "cell_type": "code",
   "execution_count": null,
   "metadata": {
    "vscode": {
     "languageId": "shellscript"
    }
   },
   "outputs": [],
   "source": [
    "# Run this cell\n",
    "oc adm policy add-scc-to-group anyuid system:serviceaccounts:databand  \n",
    "oc adm policy add-scc-to-group privileged system:serviceaccounts:databand"
   ]
  },
  {
   "cell_type": "markdown",
   "metadata": {},
   "source": [
    "Finally, we have everything to tag our container images. Please review the output of this command:"
   ]
  },
  {
   "cell_type": "code",
   "execution_count": null,
   "metadata": {
    "vscode": {
     "languageId": "shellscript"
    }
   },
   "outputs": [],
   "source": [
    "# Run this command to check that we will produce correct tags\n",
    "# it only echoes the commands but does not issue them\n",
    "docker images | grep 'dbnd-' | while read a b c\n",
    "do\n",
    "   my_image=$(echo ${a}:${b} | awk -F\"/\" '{print $NF}')\n",
    "  \n",
    "   echo docker tag ${a}:${b} $REGISTRY_URL/$DATABAND_PROJECT/$my_image\n",
    "done"
   ]
  },
  {
   "cell_type": "markdown",
   "metadata": {},
   "source": [
    "If you see a series of commands with this format...\n",
    "\n",
    "    docker tag _image-in-local-registry_  _registry-route_/databand/_image_name_ \n",
    "\n",
    "...you can then run safely this cell:"
   ]
  },
  {
   "cell_type": "code",
   "execution_count": null,
   "metadata": {
    "vscode": {
     "languageId": "shellscript"
    }
   },
   "outputs": [],
   "source": [
    "# Run this cell to tag the databand images\n",
    "docker images | grep 'dbnd-' | while read a b c\n",
    "do\n",
    "   my_image=$(echo ${a}:${b} | awk -F\"/\" '{print $NF}')\n",
    "  \n",
    "   docker tag ${a}:${b} $REGISTRY_URL/$DATABAND_PROJECT/$my_image\n",
    "done"
   ]
  },
  {
   "cell_type": "markdown",
   "metadata": {},
   "source": [
    "### 2.3 Pushing images\n",
    "\n",
    "If the last command worked fine, run this one as well but now be more patient. It will upload the local images to the OpenShift cluster"
   ]
  },
  {
   "cell_type": "code",
   "execution_count": null,
   "metadata": {
    "vscode": {
     "languageId": "shellscript"
    }
   },
   "outputs": [],
   "source": [
    "# Run this cell to push the databand images. Expect a long output\n",
    "docker images | grep 'dbnd-' | while read a b c\n",
    "do\n",
    "   my_image=$(echo ${a}:${b} | awk -F\"/\" '{print $NF}')\n",
    "  \n",
    "   docker push $REGISTRY_URL/$DATABAND_PROJECT/$my_image\n",
    "done"
   ]
  },
  {
   "cell_type": "markdown",
   "metadata": {},
   "source": [
    "## 3. Helm Chart deployment \n"
   ]
  },
  {
   "cell_type": "markdown",
   "metadata": {
    "vscode": {
     "languageId": "shellscript"
    }
   },
   "source": [
    "We unpacked the databand media package in a previous step to load the container images (section 2.1). Let's go to that working directory again:"
   ]
  },
  {
   "cell_type": "code",
   "execution_count": null,
   "metadata": {
    "vscode": {
     "languageId": "shellscript"
    }
   },
   "outputs": [],
   "source": [
    "# Copy the directory where you decompressed the databand package into the clipboard and paste it in this cell. Please observe the single quotes.\n",
    "# Example: DATABAND_UNCOMPRESSED_DIR='/Users/Angel/Downloads/databand-1.0.19-helm-chart'\n",
    "# Then, run this cell:\n",
    "DATABAND_UNCOMPRESSED_DIR='paste_here_the_clipboard'\n",
    "echo $DATABAND_UNCOMPRESSED_DIR"
   ]
  },
  {
   "cell_type": "markdown",
   "metadata": {},
   "source": [
    "You can verify that there is a big file with the docker images and a smaller one with the helm charts"
   ]
  },
  {
   "cell_type": "code",
   "execution_count": null,
   "metadata": {
    "vscode": {
     "languageId": "shellscript"
    }
   },
   "outputs": [],
   "source": [
    "cd $DATABAND_UNCOMPRESSED_DIR\n",
    "pwd\n",
    "ls -l"
   ]
  },
  {
   "cell_type": "markdown",
   "metadata": {},
   "source": [
    "Now, lets unpack the helm charts and we will see that the new subdirectory `databand`"
   ]
  },
  {
   "cell_type": "code",
   "execution_count": null,
   "metadata": {
    "vscode": {
     "languageId": "shellscript"
    }
   },
   "outputs": [],
   "source": [
    "tar -zxf databand-1.0.19-7.tgz\n",
    "ls -l"
   ]
  },
  {
   "cell_type": "markdown",
   "metadata": {},
   "source": [
    "Go to this directory and have a look at the list of files."
   ]
  },
  {
   "cell_type": "code",
   "execution_count": null,
   "metadata": {
    "vscode": {
     "languageId": "shellscript"
    }
   },
   "outputs": [],
   "source": [
    "cd databand\n",
    "pwd\n",
    "ls -l"
   ]
  },
  {
   "cell_type": "markdown",
   "metadata": {},
   "source": [
    "We will need to manipulate just one of them but, before that, let's generate some secrets:"
   ]
  },
  {
   "cell_type": "markdown",
   "metadata": {},
   "source": [
    " ### 3.1 Generate secrets "
   ]
  },
  {
   "cell_type": "markdown",
   "metadata": {},
   "source": [
    "We need to generate two internal passwords (secrets) for our deployment and we will ensure that the format will comply with the expectations. Additionally, we will retrieve other variables that we will use in the next steps. Run the following cell and take a look at the output values because you may need to copy-and-paste them later."
   ]
  },
  {
   "cell_type": "code",
   "execution_count": null,
   "metadata": {
    "vscode": {
     "languageId": "shellscript"
    }
   },
   "outputs": [],
   "source": [
    "# Run this cell\n",
    "\n",
    "# these are the secrets\n",
    "export FERNET_KEY=$(dd if=/dev/urandom bs=32 count=1 2>/dev/null | openssl base64)\n",
    "export WEBSERVER_KEY=$(head -c 32 /dev/urandom | base64 | tr -d =)\n",
    "\n",
    "# these are other values we retrieved before but we get them once again to be sure that they are not lost\n",
    "export DATABAND_PROJECT=databand \n",
    "export REGISTRY_USER=$(oc whoami)\n",
    "export REGISTRY_PASS=$(oc whoami -t)\n",
    "export REGISTRY_URL=$(oc get route -n openshift-image-registry | grep default-route | awk '{print $2}')\n",
    "\n",
    "# this is simply to retrieve the version number (image tag)\n",
    "export IMAGE_TAG=$(docker images | grep dbnd-webserver | head -1 | awk '{print $2}' | sed 's/python-//')\n",
    "\n",
    "# this is just to verify that the variables are not empty. You may need these values later\n",
    "echo DATABAND_PROJECT=$DATABAND_PROJECT\n",
    "echo REGISTRY_USER=$REGISTRY_USER\n",
    "echo REGISTRY_PASS=$REGISTRY_PASS\n",
    "echo REGISTRY_URL=$REGISTRY_URL\n",
    "echo IMAGE_TAG=$IMAGE_TAG\n",
    "echo FERNET_KEY=$FERNET_KEY\n",
    "echo WEBSERVER_KEY=$WEBSERVER_KEY\n"
   ]
  },
  {
   "cell_type": "markdown",
   "metadata": {},
   "source": [
    "### 3.2 Customize the deployment file\n",
    "\n",
    "Now, we will change the file `user-values.yaml` to customize our deployment. You need to choose one of two options:\n",
    "\n",
    "- a. manual edit\n",
    "- b. automatic edit\n",
    "\n",
    "It may be a good idea to start with the option a. but if you find it too complicated try b."
   ]
  },
  {
   "cell_type": "markdown",
   "metadata": {},
   "source": [
    "#### 3.2.a Manual edit of `user-values.yaml`\n",
    "\n",
    "Check that you are in the right directory, i.e. containing the contents of the helm charts"
   ]
  },
  {
   "cell_type": "code",
   "execution_count": null,
   "metadata": {
    "vscode": {
     "languageId": "shellscript"
    }
   },
   "outputs": [],
   "source": [
    "cd $DATABAND_UNCOMPRESSED_DIR/databand\n",
    "pwd\n",
    "ls -l "
   ]
  },
  {
   "cell_type": "markdown",
   "metadata": {},
   "source": [
    "Create the file `user-values.yaml` by copying  `user-values.yaml.example` "
   ]
  },
  {
   "cell_type": "code",
   "execution_count": null,
   "metadata": {
    "vscode": {
     "languageId": "shellscript"
    }
   },
   "outputs": [],
   "source": [
    "cp user-values.yaml.example user-values.yaml\n",
    "ls -l user-values*"
   ]
  },
  {
   "cell_type": "markdown",
   "metadata": {},
   "source": [
    "Edit the file `user-values.yaml` end ensure that it looks like this (use the prover values for your environment that we retrieved before):"
   ]
  },
  {
   "cell_type": "markdown",
   "metadata": {},
   "source": [
    "![](../pictures/user-values-yaml.png)"
   ]
  },
  {
   "cell_type": "markdown",
   "metadata": {},
   "source": [
    "Save the file and you are done. Skip 3.2.b if you are fine with the result."
   ]
  },
  {
   "cell_type": "markdown",
   "metadata": {},
   "source": [
    "#### 3.2.b Automatic edit of user-values.yaml"
   ]
  },
  {
   "cell_type": "markdown",
   "metadata": {},
   "source": [
    "If you don't want to edit the `user-values.yaml` file manually, the following cells will do the work for you.\n",
    "\n",
    "First, you need to install a small utility that changes yaml files from the command line. It is called [`yq`](https://github.com/mikefarah/yq)"
   ]
  },
  {
   "cell_type": "code",
   "execution_count": null,
   "metadata": {
    "vscode": {
     "languageId": "shellscript"
    }
   },
   "outputs": [],
   "source": [
    "# Install yq if you want to edit the user-values.yaml automatically\n",
    "# use brew on MacOS\n",
    "# alternatively, you may need to use apt, yum, snap or simply download the binary.\n",
    "# go here for instructions https://github.com/mikefarah/yq\n",
    "\n",
    "brew install yq"
   ]
  },
  {
   "cell_type": "markdown",
   "metadata": {},
   "source": [
    "Ensure that you are in the directory where the helm charts were unpacked and create the file `user-values.yaml` from the example"
   ]
  },
  {
   "cell_type": "code",
   "execution_count": null,
   "metadata": {
    "vscode": {
     "languageId": "shellscript"
    }
   },
   "outputs": [],
   "source": [
    "# Run this cell to create a user-values.yaml file\n",
    "\n",
    "cd $DATABAND_UNCOMPRESSED_DIR\n",
    "cd databand\n",
    "cp user-values.yaml.example user-values.yaml\n",
    "pwd\n",
    "ls -l user-values.yaml\n"
   ]
  },
  {
   "cell_type": "markdown",
   "metadata": {},
   "source": [
    "This file contains some default values that we will need to modify. This is how they look like now:"
   ]
  },
  {
   "cell_type": "code",
   "execution_count": null,
   "metadata": {
    "vscode": {
     "languageId": "shellscript"
    }
   },
   "outputs": [],
   "source": [
    "# These commands display the values that we will edit automatically\n",
    "\n",
    "echo repository=$(yq '.global.databand.image.repository' user-values.yaml) \n",
    "echo tag=$(yq '.global.databand.image.tag' user-values.yaml)\n",
    "echo registry=$(yq '.global.databand.imageCredentials.registry' user-values.yaml)\n",
    "echo username=$(yq '.global.databand.imageCredentials.username' user-values.yaml)\n",
    "echo password=$(yq '.global.databand.imageCredentials.password' user-values.yaml)\n",
    "echo fernetKey=$(yq '.databand.fernetKey' user-values.yaml)\n",
    "echo webKey=$(yq '.web.secret_key' user-values.yaml)\n",
    "echo datastage=$(yq '.dbnd-datastage-monitor.enabled' user-values.yaml)"
   ]
  },
  {
   "cell_type": "markdown",
   "metadata": {},
   "source": [
    "The following cell perfoms the actual edit. Now, you understand why we retrieved and exported some variables above."
   ]
  },
  {
   "cell_type": "code",
   "execution_count": null,
   "metadata": {
    "vscode": {
     "languageId": "shellscript"
    }
   },
   "outputs": [],
   "source": [
    "# Change the file user-values.yaml \n",
    "\n",
    "yq -i '.global.databand.image.tag = strenv(IMAGE_TAG)' user-values.yaml\n",
    "yq -i '.global.databand.imageCredentials.registry = strenv(REGISTRY_URL)' user-values.yaml\n",
    "yq -i '.global.databand.imageCredentials.username = strenv(REGISTRY_USER)' user-values.yaml\n",
    "yq -i '.global.databand.imageCredentials.password = strenv(REGISTRY_PASS)' user-values.yaml\n",
    "export YAML_REGISTRY=$REGISTRY_URL/$DATABAND_PROJECT\n",
    "yq -i '.global.databand.image.repository = strenv(YAML_REGISTRY)' user-values.yaml \n",
    "yq -i '.databand.fernetKey = strenv(FERNET_KEY)' user-values.yaml\n",
    "yq -i '.web.secret_key = strenv(WEBSERVER_KEY)' user-values.yaml\n",
    "yq -i '.dbnd-datastage-monitor.enabled = true ' user-values.yaml "
   ]
  },
  {
   "cell_type": "markdown",
   "metadata": {},
   "source": [
    "If you wish to review the changes, run the following cell and compare the values."
   ]
  },
  {
   "cell_type": "code",
   "execution_count": null,
   "metadata": {
    "vscode": {
     "languageId": "shellscript"
    }
   },
   "outputs": [],
   "source": [
    "echo repository=$(yq '.global.databand.image.repository' user-values.yaml) \n",
    "echo tag=$(yq '.global.databand.image.tag' user-values.yaml)\n",
    "echo registry=$(yq '.global.databand.imageCredentials.registry' user-values.yaml)\n",
    "echo username=$(yq '.global.databand.imageCredentials.username' user-values.yaml)\n",
    "echo password=$(yq '.global.databand.imageCredentials.password' user-values.yaml)\n",
    "echo fernetKey=$(yq '.databand.fernetKey' user-values.yaml)\n",
    "echo webKey=$(yq '.web.secret_key' user-values.yaml)\n",
    "echo datastage=$(yq '.dbnd-datastage-monitor.enabled' user-values.yaml)"
   ]
  },
  {
   "cell_type": "markdown",
   "metadata": {},
   "source": [
    "Done! Optionally, you may want to display the file `user-values.yaml` and verify that is similar to the picure of the previous section"
   ]
  },
  {
   "cell_type": "markdown",
   "metadata": {},
   "source": [
    "### 3.3 Run the helm deployment"
   ]
  },
  {
   "cell_type": "markdown",
   "metadata": {},
   "source": [
    "The actual deployment of databand is done with a single command from the helm charts directory (the one containing the file that we've just edited)"
   ]
  },
  {
   "cell_type": "code",
   "execution_count": null,
   "metadata": {
    "vscode": {
     "languageId": "shellscript"
    }
   },
   "outputs": [],
   "source": [
    "cd $DATABAND_UNCOMPRESSED_DIR\n",
    "cd databand\n",
    "helm upgrade databand --install --namespace databand --values ./values-ocp.yaml --values ./user-values.yaml ."
   ]
  },
  {
   "cell_type": "markdown",
   "metadata": {},
   "source": [
    "The output of the deplyoment command will display the way to access databand with port-forwarding, but there is another way. We just need to create the route that exposes the service."
   ]
  },
  {
   "cell_type": "code",
   "execution_count": null,
   "metadata": {
    "vscode": {
     "languageId": "shellscript"
    }
   },
   "outputs": [],
   "source": [
    "oc project databand\n",
    "oc get svc\n",
    "oc expose svc databand-web"
   ]
  },
  {
   "cell_type": "markdown",
   "metadata": {},
   "source": [
    "In the next section, you will see how to verify that databand is running"
   ]
  },
  {
   "cell_type": "markdown",
   "metadata": {},
   "source": [
    "## 4. Test Databand"
   ]
  },
  {
   "cell_type": "markdown",
   "metadata": {},
   "source": [
    "We have just created a databand instance with the default user `databand` and password `databand`. If you want to test the deployment for the first time , go to the OpenShift console and proceed as follows:\n",
    "![](../pictures/opendataband.png)"
   ]
  },
  {
   "cell_type": "markdown",
   "metadata": {},
   "source": [
    "Type the defaul credentials "
   ]
  },
  {
   "cell_type": "markdown",
   "metadata": {},
   "source": [
    "![](../pictures/logindataband.png)"
   ]
  },
  {
   "cell_type": "markdown",
   "metadata": {},
   "source": [
    "And the main dashboard of databand will start. Note that it is empty after the deployment."
   ]
  },
  {
   "cell_type": "markdown",
   "metadata": {},
   "source": [
    "![](../pictures/maindataband.png)"
   ]
  },
  {
   "cell_type": "markdown",
   "metadata": {},
   "source": [
    "\n",
    "---\n",
    "\n",
    "Next Section: [Airflow deployment](./3_airflow_deploy.ipynb).   Previous Section: [Databand deployment](./2_databand_deploy.ipynb)\n",
    "\n",
    "[Return to main](../README.md)\n"
   ]
  }
 ],
 "metadata": {
  "kernelspec": {
   "display_name": "Bash",
   "language": "bash",
   "name": "bash"
  },
  "language_info": {
   "codemirror_mode": "shell",
   "file_extension": ".sh",
   "mimetype": "text/x-sh",
   "name": "bash"
  }
 },
 "nbformat": 4,
 "nbformat_minor": 2
}
