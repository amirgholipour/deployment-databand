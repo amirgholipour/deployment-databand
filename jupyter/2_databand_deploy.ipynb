{
 "cells": [
  {
   "attachments": {},
   "cell_type": "markdown",
   "metadata": {},
   "source": [
    "![](../pictures/Databand-logo.png)"
   ]
  },
  {
   "cell_type": "markdown",
   "metadata": {},
   "source": [
    "# Deploying Databand"
   ]
  },
  {
   "attachments": {},
   "cell_type": "markdown",
   "metadata": {},
   "source": [
    "# 1. Preparing the environment\n",
    "\n",
    "## 1.1 Logging to the cluster\n",
    "\n",
    "First of all, we need a way to login to the custer from the command line. Open the Openshift Console and proceed as follows:\n"
   ]
  },
  {
   "cell_type": "markdown",
   "metadata": {},
   "source": [
    "\n",
    "![](../pictures/login1.png)\n"
   ]
  },
  {
   "attachments": {},
   "cell_type": "markdown",
   "metadata": {},
   "source": [
    "\n",
    "After clicking on `Copy login command` a new tab displays the contents of the command you need to copy to the clipboard \n"
   ]
  },
  {
   "cell_type": "markdown",
   "metadata": {},
   "source": [
    "\n",
    "![](../pictures/login2.png)\n"
   ]
  },
  {
   "attachments": {},
   "cell_type": "markdown",
   "metadata": {},
   "source": [
    "You need to paste the contents of the clipboard into the next cell"
   ]
  },
  {
   "cell_type": "code",
   "execution_count": 1,
   "metadata": {
    "vscode": {
     "languageId": "shellscript"
    }
   },
   "outputs": [],
   "source": [
    "# Replace the command with your own one inside the single quotes and run the cell\n",
    "# Example OC_LOGIN_COMMAND='oc login --token=sha256~3bR5KXgwiUoaQiph2_kIXCDQnVfm_HQy3YwU2m-UOrs --server=https://c109-e.us-east.containers.cloud.ibm.com:31656'\n",
    "OC_LOGIN_COMMAND='_replace_this_string_by_pasting_the_clipboard_'"
   ]
  },
  {
   "attachments": {},
   "cell_type": "markdown",
   "metadata": {},
   "source": [
    "Now, you can test that it works by executing the next cell:"
   ]
  },
  {
   "cell_type": "code",
   "execution_count": 2,
   "metadata": {
    "vscode": {
     "languageId": "shellscript"
    }
   },
   "outputs": [
    {
     "name": "stdout",
     "output_type": "stream",
     "text": [
      "oc login --token=sha256~YUoJrPZBkAtjead6CDeSveXNplatuHwKqId5xXmqRVM --server=https://c102-e.us-east.containers.cloud.ibm.com:31723\n",
      "Logged into \"https://c102-e.us-east.containers.cloud.ibm.com:31723\" as \"IAM#angelito@de.ibm.com\" using the token provided.\n",
      "\n",
      "You have access to 67 projects, the list has been suppressed. You can list all projects with 'oc projects'\n",
      "\n",
      "Using project \"default\".\n"
     ]
    }
   ],
   "source": [
    "echo $OC_LOGIN_COMMAND\n",
    "$OC_LOGIN_COMMAND"
   ]
  },
  {
   "attachments": {},
   "cell_type": "markdown",
   "metadata": {},
   "source": [
    "Please remember this command as you may need to issue it again if, for example,  you leave the jupyter session."
   ]
  },
  {
   "attachments": {},
   "cell_type": "markdown",
   "metadata": {},
   "source": [
    "**Warning:** The token will expire and changes after some time. Don't be surprised if you need to repeat the same thing tomorrow for logging into the cluster again"
   ]
  },
  {
   "attachments": {},
   "cell_type": "markdown",
   "metadata": {},
   "source": [
    "## 1.2 Expose the registry"
   ]
  },
  {
   "attachments": {},
   "cell_type": "markdown",
   "metadata": {},
   "source": [
    "We will need to upload some docker images to the cluster image registry but, by default, it is not accesible after the provisioning. So, we will expose it with this command:"
   ]
  },
  {
   "cell_type": "code",
   "execution_count": 3,
   "metadata": {
    "vscode": {
     "languageId": "shellscript"
    }
   },
   "outputs": [
    {
     "name": "stdout",
     "output_type": "stream",
     "text": [
      "config.imageregistry.operator.openshift.io/cluster patched\n"
     ]
    }
   ],
   "source": [
    "# This command exposes the registry\n",
    "oc patch configs.imageregistry.operator.openshift.io/cluster --patch '{\"spec\":{\"defaultRoute\":true}}' --type=merge"
   ]
  },
  {
   "attachments": {},
   "cell_type": "markdown",
   "metadata": {},
   "source": [
    "To verify if the registry is really exposed now, run the following command:"
   ]
  },
  {
   "cell_type": "code",
   "execution_count": 4,
   "metadata": {
    "vscode": {
     "languageId": "shellscript"
    }
   },
   "outputs": [
    {
     "name": "stdout",
     "output_type": "stream",
     "text": [
      "NAME            HOST/PORT                                                                                                                                   PATH   SERVICES         PORT    TERMINATION   WILDCARD\n",
      "default-route   default-route-openshift-image-registry.itzroks-1100005cc8-iw6gvy-6ccd7f378ae819553d37d5f2ee142bd6-0000.us-east.containers.appdomain.cloud          image-registry   <all>   reencrypt     None\n"
     ]
    }
   ],
   "source": [
    "# This command check if there is a network route associated the the image registry\n",
    "oc get route -n openshift-image-registry "
   ]
  },
  {
   "attachments": {},
   "cell_type": "markdown",
   "metadata": {},
   "source": [
    "If something like \"No resources found\" is displayed, the patch command did not work. Stop here and fix it before continuing.\n"
   ]
  },
  {
   "attachments": {},
   "cell_type": "markdown",
   "metadata": {
    "tags": []
   },
   "source": [
    "Now, we need to select the actual route out of this complicated output. Just run this:\n",
    "<a id='registry_url'></a>"
   ]
  },
  {
   "cell_type": "code",
   "execution_count": 5,
   "metadata": {
    "tags": [
     "registry_url"
    ],
    "vscode": {
     "languageId": "shellscript"
    }
   },
   "outputs": [
    {
     "name": "stdout",
     "output_type": "stream",
     "text": [
      "default-route-openshift-image-registry.itzroks-1100005cc8-iw6gvy-6ccd7f378ae819553d37d5f2ee142bd6-0000.us-east.containers.appdomain.cloud\n"
     ]
    }
   ],
   "source": [
    "\n",
    "# This command extracts the portion of the registry route\n",
    "# Example: default-route-openshift-image-registry.itzroks-1100005cc8-4b30y2-4b4a324f027aea19c5cbc0c3275c4656-0000.us-east.containers.appdomain.cloud\n",
    "REGISTRY_URL=$(oc get route -n openshift-image-registry | grep default-route | awk '{print $2}')\n",
    "echo $REGISTRY_URL"
   ]
  },
  {
   "attachments": {},
   "cell_type": "markdown",
   "metadata": {},
   "source": [
    "## 2. Preparing Docker images "
   ]
  },
  {
   "attachments": {},
   "cell_type": "markdown",
   "metadata": {},
   "source": [
    "### 2.1 Loading images locally\n",
    "\n",
    "In the last part of the of the [prerequisites section](./0_prerequisites.ipynb) we downloaded the file `databand-1.0.19-helm-chart.tar.gz` (960MB). After decompressing it, we see something like this:\n",
    "\n",
    "    (base) Angel@AngelMac databand-1.0.19-helm-chart % ls -l\n",
    "    total 5050480\n",
    "    -rw-r--r--@ 1 Angel  staff      318291 13 feb 14:07 databand-1.0.19-7.tgz\n",
    "    -rw-------@ 1 Angel  staff  2579398656 13 feb 14:09 databand-v1.0.19.7-images.tar`\n",
    "\n",
    "Our task now is importing the databand images in the reqistry of our local computer. First, let's define the directory where these two files are located after decompressing the databand package file:"
   ]
  },
  {
   "cell_type": "code",
   "execution_count": 6,
   "metadata": {
    "vscode": {
     "languageId": "shellscript"
    }
   },
   "outputs": [
    {
     "name": "stdout",
     "output_type": "stream",
     "text": [
      "/Users/Angel/Downloads/databand-1.0.19-helm-chart\n"
     ]
    }
   ],
   "source": [
    "# Copy the directory where you decompressed the databand package into the clipboard and paste it in this cell. Please observe the single quotes.\n",
    "# Example: DATABAND_UNCOMPRESSED_DIR='/Users/Angel/Downloads/databand-1.0.19-helm-chart'\n",
    "# Then, run this cell:\n",
    "DATABAND_UNCOMPRESSED_DIR='_paste_here_the_clipboard_'\n",
    "echo $DATABAND_UNCOMPRESSED_DIR"
   ]
  },
  {
   "cell_type": "code",
   "execution_count": null,
   "metadata": {
    "vscode": {
     "languageId": "shellscript"
    }
   },
   "outputs": [],
   "source": [
    "# Run this cell. It will produce a very long output\n",
    "cd $DATABAND_UNCOMPRESSED_DIR\n",
    "ls -l\n",
    "DATABAND_IMAGES=$(ls databand*images.tar) \n",
    "docker load -i $DATABAND_IMAGES"
   ]
  },
  {
   "attachments": {},
   "cell_type": "markdown",
   "metadata": {},
   "source": [
    "Run this command to verify that the load went well:"
   ]
  },
  {
   "cell_type": "code",
   "execution_count": 9,
   "metadata": {
    "vscode": {
     "languageId": "shellscript"
    }
   },
   "outputs": [
    {
     "name": "stdout",
     "output_type": "stream",
     "text": [
      "REPOSITORY                                                             TAG                    IMAGE ID       CREATED         SIZE\n",
      "registry.gitlab.com/databand/databand-deploy/dbnd-datasource-monitor   python-v1.0.19.7       5dcb080260b4   2 weeks ago     457MB\n",
      "registry.gitlab.com/databand/databand-deploy/dbnd-ml-trainer           python-v1.0.19.7       3376fd4ed290   2 weeks ago     619MB\n",
      "registry.gitlab.com/databand/databand-deploy/dbnd-webserver            python-v1.0.19.7       84f9441ea6d6   2 weeks ago     619MB\n",
      "registry.gitlab.com/databand/databand-deploy/dbnd-datastage-monitor    python-v1.0.19.7       c395af0c2cd9   2 weeks ago     225MB\n",
      "registry.gitlab.com/databand/databand-deploy/dbnd-dbt-monitor          python-v1.0.19.7       019bed143ae0   2 weeks ago     224MB\n",
      "registry.gitlab.com/databand/databand-deploy/dbnd-alert-defs-syncer    python-v1.0.19.7       a1cb3ed34b50   2 weeks ago     325MB\n",
      "registry.gitlab.com/databand/databand-deploy/dbnd-webapp               nginx-v1.0.19.7        525db81eb5e0   2 weeks ago     72MB\n",
      "quay.io/prometheus/prometheus                                          v2.40.7                b816c2dd5971   2 months ago    223MB\n",
      "bitnami/postgresql                                                     12.11.0                b5b732028a36   6 months ago    281MB\n",
      "quay.io/prometheus/alertmanager                                        v0.24.0                e556bd45e16c   11 months ago   59.7MB\n",
      "bitnami/redis                                                          6.2.6-debian-10-r103   2ea7bf1b67d0   13 months ago   95.2MB\n",
      "quay.io/prometheuscommunity/postgres-exporter                          v0.10.1                b629cf2da06f   13 months ago   17.4MB\n",
      "jimmidyson/configmap-reload                                            v0.5.0                 d771cc9785a1   2 years ago     9.99MB\n",
      "mher/flower                                                            0.9.7                  b0081d434fcd   2 years ago     62.5MB\n",
      "busybox                                                                1.28.4                 8c811b4aec35   4 years ago     1.15MB\n"
     ]
    }
   ],
   "source": [
    "docker images"
   ]
  },
  {
   "attachments": {},
   "cell_type": "markdown",
   "metadata": {},
   "source": [
    "### 2.2. Tagging images"
   ]
  },
  {
   "attachments": {},
   "cell_type": "markdown",
   "metadata": {},
   "source": [
    "Now, we need to issue very cumbersome commands. Pay attention to the following steps.\n",
    "\n",
    "First, we need to ensure that we know the route to the registry. We set the variable `REGISTRY_URL` in a [previous cell](#registry_url) where we extracted just the route of the registry. We can run it once again to be sure that it is set and remember the manual circumvention as explained [here](#manual_registry_url) in case that the output is different from the expected."
   ]
  },
  {
   "cell_type": "code",
   "execution_count": 10,
   "metadata": {
    "vscode": {
     "languageId": "shellscript"
    }
   },
   "outputs": [
    {
     "name": "stdout",
     "output_type": "stream",
     "text": [
      "default-route-openshift-image-registry.itzroks-1100005cc8-iw6gvy-6ccd7f378ae819553d37d5f2ee142bd6-0000.us-east.containers.appdomain.cloud\n"
     ]
    }
   ],
   "source": [
    "# This command extracts the portion of the registry route. We did it before but you can run it again to be sure\n",
    "# Example of expected output: default-route-openshift-image-registry.itzroks-1100005cc8-4b30y2-4b4a324f027aea19c5cbc0c3275c4656-0000.us-east.containers.appdomain.cloud\n",
    "REGISTRY_URL=$(oc get route -n openshift-image-registry | grep default-route | awk '{print $2}')\n",
    "echo $REGISTRY_URL"
   ]
  },
  {
   "attachments": {},
   "cell_type": "markdown",
   "metadata": {},
   "source": [
    "Then, we need to retrieve our actual userid and password in the OpenShift cluster and log into the registry"
   ]
  },
  {
   "cell_type": "code",
   "execution_count": 11,
   "metadata": {
    "vscode": {
     "languageId": "shellscript"
    }
   },
   "outputs": [
    {
     "name": "stdout",
     "output_type": "stream",
     "text": [
      "IAM#angelito@de.ibm.com\n",
      "sha256~YUoJrPZBkAtjead6CDeSveXNplatuHwKqId5xXmqRVM\n",
      "WARNING! Using --password via the CLI is insecure. Use --password-stdin.\n",
      "Login Succeeded\n"
     ]
    }
   ],
   "source": [
    "# Run this cell. It is necessary to login to the registry (apart from being logged into the cluster itself)\n",
    "REGISTRY_USER=$(oc whoami)\n",
    "echo $REGISTRY_USER\n",
    "REGISTRY_PASS=$(oc whoami -t)\n",
    "echo $REGISTRY_PASS\n",
    "\n",
    "docker login -u $REGISTRY_USER -p $REGISTRY_PASS $REGISTRY_URL\n"
   ]
  },
  {
   "attachments": {},
   "cell_type": "markdown",
   "metadata": {},
   "source": [
    "Now, we create a project in the cluster. Name it `databand` just for simplicity"
   ]
  },
  {
   "cell_type": "code",
   "execution_count": 12,
   "metadata": {
    "vscode": {
     "languageId": "shellscript"
    }
   },
   "outputs": [
    {
     "name": "stdout",
     "output_type": "stream",
     "text": [
      "Now using project \"databand\" on server \"https://c102-e.us-east.containers.cloud.ibm.com:31723\".\n",
      "\n",
      "You can add applications to this project with the 'new-app' command. For example, try:\n",
      "\n",
      "    oc new-app rails-postgresql-example\n",
      "\n",
      "to build a new example application in Ruby. Or use kubectl to deploy a simple Kubernetes application:\n",
      "\n",
      "    kubectl create deployment hello-node --image=k8s.gcr.io/e2e-test-images/agnhost:2.33 -- /agnhost serve-hostname\n",
      "\n"
     ]
    }
   ],
   "source": [
    "# Run this cell. It will create an OpenShift project, which is equivalent to a namespace in Kubernetes terminology\n",
    "DATABAND_PROJECT=databand \n",
    "oc new-project $DATABAND_PROJECT"
   ]
  },
  {
   "attachments": {},
   "cell_type": "markdown",
   "metadata": {},
   "source": [
    "Finally, we have everything to tag our container images. Please review the output of this command:"
   ]
  },
  {
   "cell_type": "code",
   "execution_count": 13,
   "metadata": {
    "vscode": {
     "languageId": "shellscript"
    }
   },
   "outputs": [
    {
     "name": "stdout",
     "output_type": "stream",
     "text": [
      "docker tag registry.gitlab.com/databand/databand-deploy/dbnd-datasource-monitor:python-v1.0.19.7 default-route-openshift-image-registry.itzroks-1100005cc8-iw6gvy-6ccd7f378ae819553d37d5f2ee142bd6-0000.us-east.containers.appdomain.cloud/databand/dbnd-datasource-monitor:python-v1.0.19.7\n",
      "docker tag registry.gitlab.com/databand/databand-deploy/dbnd-ml-trainer:python-v1.0.19.7 default-route-openshift-image-registry.itzroks-1100005cc8-iw6gvy-6ccd7f378ae819553d37d5f2ee142bd6-0000.us-east.containers.appdomain.cloud/databand/dbnd-ml-trainer:python-v1.0.19.7\n",
      "docker tag registry.gitlab.com/databand/databand-deploy/dbnd-webserver:python-v1.0.19.7 default-route-openshift-image-registry.itzroks-1100005cc8-iw6gvy-6ccd7f378ae819553d37d5f2ee142bd6-0000.us-east.containers.appdomain.cloud/databand/dbnd-webserver:python-v1.0.19.7\n",
      "docker tag registry.gitlab.com/databand/databand-deploy/dbnd-datastage-monitor:python-v1.0.19.7 default-route-openshift-image-registry.itzroks-1100005cc8-iw6gvy-6ccd7f378ae819553d37d5f2ee142bd6-0000.us-east.containers.appdomain.cloud/databand/dbnd-datastage-monitor:python-v1.0.19.7\n",
      "docker tag registry.gitlab.com/databand/databand-deploy/dbnd-dbt-monitor:python-v1.0.19.7 default-route-openshift-image-registry.itzroks-1100005cc8-iw6gvy-6ccd7f378ae819553d37d5f2ee142bd6-0000.us-east.containers.appdomain.cloud/databand/dbnd-dbt-monitor:python-v1.0.19.7\n",
      "docker tag registry.gitlab.com/databand/databand-deploy/dbnd-alert-defs-syncer:python-v1.0.19.7 default-route-openshift-image-registry.itzroks-1100005cc8-iw6gvy-6ccd7f378ae819553d37d5f2ee142bd6-0000.us-east.containers.appdomain.cloud/databand/dbnd-alert-defs-syncer:python-v1.0.19.7\n",
      "docker tag registry.gitlab.com/databand/databand-deploy/dbnd-webapp:nginx-v1.0.19.7 default-route-openshift-image-registry.itzroks-1100005cc8-iw6gvy-6ccd7f378ae819553d37d5f2ee142bd6-0000.us-east.containers.appdomain.cloud/databand/dbnd-webapp:nginx-v1.0.19.7\n"
     ]
    }
   ],
   "source": [
    "# Run this command to check that we will produce correct tags\n",
    "# it only echoes the commands but does not issue them\n",
    "docker images | grep 'dbnd-' | while read a b c\n",
    "do\n",
    "   my_image=$(echo ${a}:${b} | awk -F\"/\" '{print $NF}')\n",
    "  \n",
    "   echo docker tag ${a}:${b} $REGISTRY_URL/$DATABAND_PROJECT/$my_image\n",
    "done"
   ]
  },
  {
   "attachments": {},
   "cell_type": "markdown",
   "metadata": {},
   "source": [
    "If you see a series of commands with this format...\n",
    "\n",
    "    docker tag _image-in-local-registry_  _registry-route_/databand/_image_name_ \n",
    "\n",
    "...you can then run safely this cell:"
   ]
  },
  {
   "cell_type": "code",
   "execution_count": 14,
   "metadata": {
    "vscode": {
     "languageId": "shellscript"
    }
   },
   "outputs": [],
   "source": [
    "# Run this cell to tag the databand images\n",
    "docker images | grep 'dbnd-' | while read a b c\n",
    "do\n",
    "   my_image=$(echo ${a}:${b} | awk -F\"/\" '{print $NF}')\n",
    "  \n",
    "   docker tag ${a}:${b} $REGISTRY_URL/$DATABAND_PROJECT/$my_image\n",
    "done"
   ]
  },
  {
   "attachments": {},
   "cell_type": "markdown",
   "metadata": {},
   "source": [
    "### 2.3 Pushing images\n",
    "\n",
    "If the last command worked fine, run this one as well but now be more patient. It will upload the local images to the OpenShift cluster"
   ]
  },
  {
   "cell_type": "code",
   "execution_count": null,
   "metadata": {
    "vscode": {
     "languageId": "shellscript"
    }
   },
   "outputs": [],
   "source": [
    "# Run this cell to push the databand images. Expect a long output\n",
    "docker images | grep 'dbnd-' | while read a b c\n",
    "do\n",
    "   my_image=$(echo ${a}:${b} | awk -F\"/\" '{print $NF}')\n",
    "  \n",
    "   docker push $REGISTRY_URL/$DATABAND_PROJECT/$my_image\n",
    "done"
   ]
  },
  {
   "attachments": {},
   "cell_type": "markdown",
   "metadata": {},
   "source": [
    "## 3. Helm Chart deployment \n"
   ]
  },
  {
   "attachments": {},
   "cell_type": "markdown",
   "metadata": {
    "vscode": {
     "languageId": "shellscript"
    }
   },
   "source": [
    "We unpacked the databand media package in a previous step to load the container images (section 2.1). Let's go to that working directory again:"
   ]
  },
  {
   "cell_type": "code",
   "execution_count": 16,
   "metadata": {
    "vscode": {
     "languageId": "shellscript"
    }
   },
   "outputs": [
    {
     "name": "stdout",
     "output_type": "stream",
     "text": [
      "/Users/Angel/Downloads/databand-1.0.19-helm-chart\n"
     ]
    }
   ],
   "source": [
    "# Copy the directory where you decompressed the databand package into the clipboard and paste it in this cell. Please observe the single quotes.\n",
    "# Example: DATABAND_UNCOMPRESSED_DIR='/Users/Angel/Downloads/databand-1.0.19-helm-chart'\n",
    "# Then, run this cell:\n",
    "DATABAND_UNCOMPRESSED_DIR='_paste_here_the_clipboard_'\n",
    "echo $DATABAND_UNCOMPRESSED_DIR"
   ]
  },
  {
   "attachments": {},
   "cell_type": "markdown",
   "metadata": {},
   "source": [
    "You can verify that there is a big file with the docker images and a smaller one with the helm charts"
   ]
  },
  {
   "cell_type": "code",
   "execution_count": 17,
   "metadata": {
    "vscode": {
     "languageId": "shellscript"
    }
   },
   "outputs": [
    {
     "name": "stdout",
     "output_type": "stream",
     "text": [
      "/Users/Angel/Downloads/databand-1.0.19-helm-chart\n",
      "total 5038512\n",
      "-rw-r--r--@ 1 Angel  staff      318291 Feb 13 14:07 databand-1.0.19-7.tgz\n",
      "-rw-------@ 1 Angel  staff  2579398656 Feb 13 14:09 databand-v1.0.19.7-images.tar\n"
     ]
    }
   ],
   "source": [
    "cd $DATABAND_UNCOMPRESSED_DIR\n",
    "pwd\n",
    "ls -l"
   ]
  },
  {
   "attachments": {},
   "cell_type": "markdown",
   "metadata": {},
   "source": [
    "Now, lets unpack the helm charts and we will see that the new subdirectory `databand`"
   ]
  },
  {
   "cell_type": "code",
   "execution_count": 18,
   "metadata": {
    "vscode": {
     "languageId": "shellscript"
    }
   },
   "outputs": [
    {
     "name": "stdout",
     "output_type": "stream",
     "text": [
      "total 5038512\n",
      "drwxr-xr-x  15 Angel  staff         480 Mar  2 13:53 databand\n",
      "-rw-r--r--@  1 Angel  staff      318291 Feb 13 14:07 databand-1.0.19-7.tgz\n",
      "-rw-------@  1 Angel  staff  2579398656 Feb 13 14:09 databand-v1.0.19.7-images.tar\n"
     ]
    }
   ],
   "source": [
    "tar -zxf databand-1.0.19-7.tgz\n",
    "ls -l\n"
   ]
  },
  {
   "attachments": {},
   "cell_type": "markdown",
   "metadata": {},
   "source": [
    "Go to this directory and have a look at the list of files."
   ]
  },
  {
   "cell_type": "code",
   "execution_count": 19,
   "metadata": {
    "vscode": {
     "languageId": "shellscript"
    }
   },
   "outputs": [
    {
     "name": "stdout",
     "output_type": "stream",
     "text": [
      "/Users/Angel/Downloads/databand-1.0.19-helm-chart/databand\n",
      "total 184\n",
      "-rw-r--r--@  1 Angel  staff   1098 Feb 13 14:07 Chart.lock\n",
      "-rw-r--r--@  1 Angel  staff   1624 Feb 13 14:07 Chart.yaml\n",
      "-rw-r--r--@  1 Angel  staff  11343 Feb 13 14:07 LICENSE\n",
      "drwxr-xr-x   3 Angel  staff     96 Mar  2 13:53 LICENSES\n",
      "-rw-r--r--@  1 Angel  staff  18137 Feb 13 14:07 README.md\n",
      "drwxr-xr-x  12 Angel  staff    384 Mar  2 13:53 charts\n",
      "drwxr-xr-x  10 Angel  staff    320 Mar  2 13:53 files\n",
      "drwxr-xr-x   8 Angel  staff    256 Mar  2 13:53 subcharts\n",
      "drwxr-xr-x  61 Angel  staff   1952 Mar  2 13:53 templates\n",
      "-rw-r--r--@  1 Angel  staff   7165 Feb 13 14:07 user-values.yaml.example\n",
      "-rw-r--r--@  1 Angel  staff   4396 Feb 13 14:07 values-ocp.yaml\n",
      "-rw-r--r--@  1 Angel  staff  33535 Feb 13 14:07 values.yaml\n"
     ]
    }
   ],
   "source": [
    "cd databand\n",
    "pwd\n",
    "ls -l"
   ]
  },
  {
   "attachments": {},
   "cell_type": "markdown",
   "metadata": {},
   "source": [
    "We will need to manipulate just one of them but, before that, let's generate some secrets:"
   ]
  },
  {
   "attachments": {},
   "cell_type": "markdown",
   "metadata": {},
   "source": [
    " ### 3.1 Generate secrets "
   ]
  },
  {
   "attachments": {},
   "cell_type": "markdown",
   "metadata": {},
   "source": [
    "We need to generate two internal passwords (secrets) for our deployment and we will ensure that the format will comply with the expectations. Additionally, we will retrieve other variables that we will use in the next steps. Run the following cell and take a look at the output values because you may need to copy-and-paste them later."
   ]
  },
  {
   "cell_type": "code",
   "execution_count": 20,
   "metadata": {
    "vscode": {
     "languageId": "shellscript"
    }
   },
   "outputs": [
    {
     "name": "stdout",
     "output_type": "stream",
     "text": [
      "DATABAND_PROJECT=databand\n",
      "REGISTRY_USER=IAM#angelito@de.ibm.com\n",
      "REGISTRY_PASS=sha256~YUoJrPZBkAtjead6CDeSveXNplatuHwKqId5xXmqRVM\n",
      "REGISTRY_URL=default-route-openshift-image-registry.itzroks-1100005cc8-iw6gvy-6ccd7f378ae819553d37d5f2ee142bd6-0000.us-east.containers.appdomain.cloud\n",
      "IMAGE_TAG=v1.0.19.7\n",
      "FERNET_KEY=uAggDbMoUmRhDsB5lKur72qcyt4GkDkV+e/u4mKxANU=\n",
      "WEBSERVER_KEY=YCxSxY0zsFTaS74Lk7UoyL3PoNIxC5EzFjURr3YTUDE\n"
     ]
    }
   ],
   "source": [
    "# Run this cell\n",
    "\n",
    "# these are the secrets\n",
    "export FERNET_KEY=$(dd if=/dev/urandom bs=32 count=1 2>/dev/null | openssl base64)\n",
    "export WEBSERVER_KEY=$(head -c 32 /dev/urandom | base64 | tr -d =)\n",
    "\n",
    "# these are other values we retrieved before but we get them once again to be sure that they are not lost\n",
    "export DATABAND_PROJECT=databand \n",
    "export REGISTRY_USER=$(oc whoami)\n",
    "export REGISTRY_PASS=$(oc whoami -t)\n",
    "export REGISTRY_URL=$(oc get route -n openshift-image-registry | grep default-route | awk '{print $2}')\n",
    "\n",
    "# this is simply to retrieve the version number (image tag)\n",
    "export IMAGE_TAG=$(docker images | grep dbnd-webserver | head -1 | awk '{print $2}' | sed 's/python-//')\n",
    "\n",
    "# this is just to verify that the variables are not empty. You may need these values later\n",
    "echo DATABAND_PROJECT=$DATABAND_PROJECT\n",
    "echo REGISTRY_USER=$REGISTRY_USER\n",
    "echo REGISTRY_PASS=$REGISTRY_PASS\n",
    "echo REGISTRY_URL=$REGISTRY_URL\n",
    "echo IMAGE_TAG=$IMAGE_TAG\n",
    "echo FERNET_KEY=$FERNET_KEY\n",
    "echo WEBSERVER_KEY=$WEBSERVER_KEY"
   ]
  },
  {
   "attachments": {},
   "cell_type": "markdown",
   "metadata": {},
   "source": [
    "### 3.2 Customize the deployment file\n",
    "\n",
    "Now, we will change the file `user-values.yaml` to customize our deployment. You need to choose one of two options:\n",
    "\n",
    "- a. manual edit\n",
    "- b. automatic edit\n",
    "\n",
    "It may be a good idea to start with the option a. but if you find it too complicated try b."
   ]
  },
  {
   "attachments": {},
   "cell_type": "markdown",
   "metadata": {},
   "source": [
    "#### 3.2.a Manual edit of `user-values.yaml`\n",
    "\n",
    "Check that you are in the right directory, i.e. containing the contents of the helm charts"
   ]
  },
  {
   "cell_type": "code",
   "execution_count": 57,
   "metadata": {
    "vscode": {
     "languageId": "shellscript"
    }
   },
   "outputs": [
    {
     "name": "stdout",
     "output_type": "stream",
     "text": [
      "/Users/Angel/Downloads/databand-1.0.19-helm-chart/databand\n",
      "total 184\n",
      "-rw-r--r--@  1 Angel  staff   1098 Feb 13 14:07 Chart.lock\n",
      "-rw-r--r--@  1 Angel  staff   1624 Feb 13 14:07 Chart.yaml\n",
      "-rw-r--r--@  1 Angel  staff  11343 Feb 13 14:07 LICENSE\n",
      "drwxr-xr-x   3 Angel  staff     96 Feb 27 12:05 LICENSES\n",
      "-rw-r--r--@  1 Angel  staff  18137 Feb 13 14:07 README.md\n",
      "drwxr-xr-x  12 Angel  staff    384 Feb 27 12:05 charts\n",
      "drwxr-xr-x  10 Angel  staff    320 Feb 27 12:05 files\n",
      "drwxr-xr-x   8 Angel  staff    256 Feb 27 12:05 subcharts\n",
      "drwxr-xr-x  61 Angel  staff   1952 Feb 27 12:05 templates\n",
      "-rw-r--r--@  1 Angel  staff   7165 Feb 13 14:07 user-values.yaml.example\n",
      "-rw-r--r--@  1 Angel  staff   4396 Feb 13 14:07 values-ocp.yaml\n",
      "-rw-r--r--@  1 Angel  staff  33535 Feb 13 14:07 values.yaml\n"
     ]
    }
   ],
   "source": [
    "cd $DATABAND_UNCOMPRESSED_DIR/databand\n",
    "pwd\n",
    "ls -l "
   ]
  },
  {
   "attachments": {},
   "cell_type": "markdown",
   "metadata": {},
   "source": [
    "Create the file `user-values.yaml` by copying  `user-values.yaml.example` "
   ]
  },
  {
   "cell_type": "code",
   "execution_count": 60,
   "metadata": {
    "vscode": {
     "languageId": "shellscript"
    }
   },
   "outputs": [
    {
     "name": "stdout",
     "output_type": "stream",
     "text": [
      "-rw-r--r--@ 1 Angel  staff  7165 Feb 27 13:43 user-values.yaml\n",
      "-rw-r--r--@ 1 Angel  staff  7165 Feb 13 14:07 user-values.yaml.example\n"
     ]
    }
   ],
   "source": [
    "cp user-values.yaml.example user-values.yaml\n",
    "ls -l user-values*"
   ]
  },
  {
   "attachments": {},
   "cell_type": "markdown",
   "metadata": {},
   "source": [
    "Edit the file `user-values.yaml` end ensure that it looks like this (use the prover values for your environment that we retrieved before):"
   ]
  },
  {
   "attachments": {},
   "cell_type": "markdown",
   "metadata": {},
   "source": [
    "![](../pictures/user-values-yaml.png)"
   ]
  },
  {
   "attachments": {},
   "cell_type": "markdown",
   "metadata": {},
   "source": [
    "Save the file and you are done. Skip 3.2.b if you are fine with the result."
   ]
  },
  {
   "attachments": {},
   "cell_type": "markdown",
   "metadata": {},
   "source": [
    "#### 3.2.b Automatic edit of user-values.yaml"
   ]
  },
  {
   "attachments": {},
   "cell_type": "markdown",
   "metadata": {},
   "source": [
    "If you don't want to edit the `user-values.yaml` file manually, the following cells will do the work for you.\n",
    "\n",
    "First, you need to install a small utility that changes yaml files from the command line. It is called [`yq`](https://github.com/mikefarah/yq)"
   ]
  },
  {
   "cell_type": "code",
   "execution_count": null,
   "metadata": {
    "vscode": {
     "languageId": "shellscript"
    }
   },
   "outputs": [],
   "source": [
    "# Install yq if you want to edit the user-values.yaml automatically\n",
    "# use brew on MacOS\n",
    "# alternatively, you may need to use apt, yum, snap or simply download the binary.\n",
    "# go here for instructions https://github.com/mikefarah/yq\n",
    "\n",
    "brew install yq"
   ]
  },
  {
   "attachments": {},
   "cell_type": "markdown",
   "metadata": {},
   "source": [
    "Ensure that you are in the directory where the helm charts were unpacked and create the file `user-values.yaml` from the example"
   ]
  },
  {
   "cell_type": "code",
   "execution_count": 21,
   "metadata": {
    "vscode": {
     "languageId": "shellscript"
    }
   },
   "outputs": [
    {
     "name": "stdout",
     "output_type": "stream",
     "text": [
      "/Users/Angel/Downloads/databand-1.0.19-helm-chart/databand\n",
      "-rw-r--r--@ 1 Angel  staff  7165 Mar  2 13:54 user-values.yaml\n"
     ]
    }
   ],
   "source": [
    "# Run this cell to create a user-values.yaml file\n",
    "\n",
    "cd $DATABAND_UNCOMPRESSED_DIR\n",
    "cd databand\n",
    "cp user-values.yaml.example user-values.yaml\n",
    "pwd\n",
    "ls -l user-values.yaml\n"
   ]
  },
  {
   "attachments": {},
   "cell_type": "markdown",
   "metadata": {},
   "source": [
    "This file contains some default values that we will need to modify. This is how they look like now:"
   ]
  },
  {
   "cell_type": "code",
   "execution_count": 22,
   "metadata": {
    "vscode": {
     "languageId": "shellscript"
    }
   },
   "outputs": [
    {
     "name": "stdout",
     "output_type": "stream",
     "text": [
      "repository=registry.gitlab.com/databand/databand-deploy\n",
      "tag=v1.0.19.7\n",
      "registry=registry.gitlab.com\n",
      "username=\n",
      "password=\n",
      "fernetKey=qOUpd5Mjzzt6E6G9m7_EViAiWqXiN-GMrVvfBzOGluc=\n",
      "webKey=\n",
      "datastage=false\n"
     ]
    }
   ],
   "source": [
    "# These commands display the values that we will edit automatically\n",
    "\n",
    "echo repository=$(yq '.global.databand.image.repository' user-values.yaml) \n",
    "echo tag=$(yq '.global.databand.image.tag' user-values.yaml)\n",
    "echo registry=$(yq '.global.databand.imageCredentials.registry' user-values.yaml)\n",
    "echo username=$(yq '.global.databand.imageCredentials.username' user-values.yaml)\n",
    "echo password=$(yq '.global.databand.imageCredentials.password' user-values.yaml)\n",
    "echo fernetKey=$(yq '.databand.fernetKey' user-values.yaml)\n",
    "echo webKey=$(yq '.web.secret_key' user-values.yaml)\n",
    "echo datastage=$(yq '.dbnd-datastage-monitor.enabled' user-values.yaml)"
   ]
  },
  {
   "attachments": {},
   "cell_type": "markdown",
   "metadata": {},
   "source": [
    "The following cell perfoms the actual edit. Now, you understand why we retrieved and exported some variables above."
   ]
  },
  {
   "cell_type": "code",
   "execution_count": 23,
   "metadata": {
    "vscode": {
     "languageId": "shellscript"
    }
   },
   "outputs": [],
   "source": [
    "# Change the file user-values.yaml \n",
    "\n",
    "yq -i '.global.databand.image.tag = strenv(IMAGE_TAG)' user-values.yaml\n",
    "yq -i '.global.databand.imageCredentials.registry = strenv(REGISTRY_URL)' user-values.yaml\n",
    "yq -i '.global.databand.imageCredentials.username = strenv(REGISTRY_USER)' user-values.yaml\n",
    "yq -i '.global.databand.imageCredentials.password = strenv(REGISTRY_PASS)' user-values.yaml\n",
    "export YAML_REGISTRY=$REGISTRY_URL/$DATABAND_PROJECT\n",
    "yq -i '.global.databand.image.repository = strenv(YAML_REGISTRY)' user-values.yaml \n",
    "yq -i '.databand.fernetKey = strenv(FERNET_KEY)' user-values.yaml\n",
    "yq -i '.web.secret_key = strenv(WEBSERVER_KEY)' user-values.yaml\n",
    "yq -i '.dbnd-datastage-monitor.enabled = true ' user-values.yaml "
   ]
  },
  {
   "attachments": {},
   "cell_type": "markdown",
   "metadata": {},
   "source": [
    "If you wish to review the changes, run the following cell and compare the values."
   ]
  },
  {
   "cell_type": "code",
   "execution_count": 25,
   "metadata": {
    "vscode": {
     "languageId": "shellscript"
    }
   },
   "outputs": [
    {
     "name": "stdout",
     "output_type": "stream",
     "text": [
      "repository=default-route-openshift-image-registry.itzroks-1100005cc8-iw6gvy-6ccd7f378ae819553d37d5f2ee142bd6-0000.us-east.containers.appdomain.cloud/databand\n",
      "tag=v1.0.19.7\n",
      "registry=default-route-openshift-image-registry.itzroks-1100005cc8-iw6gvy-6ccd7f378ae819553d37d5f2ee142bd6-0000.us-east.containers.appdomain.cloud\n",
      "username=IAM#angelito@de.ibm.com\n",
      "password=sha256~YUoJrPZBkAtjead6CDeSveXNplatuHwKqId5xXmqRVM\n",
      "fernetKey=uAggDbMoUmRhDsB5lKur72qcyt4GkDkV+e/u4mKxANU=\n",
      "webKey=YCxSxY0zsFTaS74Lk7UoyL3PoNIxC5EzFjURr3YTUDE\n",
      "datastage=true\n"
     ]
    }
   ],
   "source": [
    "echo repository=$(yq '.global.databand.image.repository' user-values.yaml) \n",
    "echo tag=$(yq '.global.databand.image.tag' user-values.yaml)\n",
    "echo registry=$(yq '.global.databand.imageCredentials.registry' user-values.yaml)\n",
    "echo username=$(yq '.global.databand.imageCredentials.username' user-values.yaml)\n",
    "echo password=$(yq '.global.databand.imageCredentials.password' user-values.yaml)\n",
    "echo fernetKey=$(yq '.databand.fernetKey' user-values.yaml)\n",
    "echo webKey=$(yq '.web.secret_key' user-values.yaml)\n",
    "echo datastage=$(yq '.dbnd-datastage-monitor.enabled' user-values.yaml)"
   ]
  },
  {
   "attachments": {},
   "cell_type": "markdown",
   "metadata": {},
   "source": [
    "Done! Optionally, you may want to display the file `user-values.yaml` and verify that is similar to the picure of the previous section"
   ]
  },
  {
   "attachments": {},
   "cell_type": "markdown",
   "metadata": {},
   "source": [
    "### 3.3 Run the helm deployment"
   ]
  },
  {
   "attachments": {},
   "cell_type": "markdown",
   "metadata": {},
   "source": [
    "The actual deployment of databand is done with a single command from the helm charts directory (the one containing the file that we've just edited)"
   ]
  },
  {
   "cell_type": "code",
   "execution_count": 26,
   "metadata": {
    "vscode": {
     "languageId": "shellscript"
    }
   },
   "outputs": [
    {
     "name": "stdout",
     "output_type": "stream",
     "text": [
      "Release \"databand\" does not exist. Installing it now.\n",
      "NAME: databand\n",
      "LAST DEPLOYED: Thu Mar  2 13:56:54 2023\n",
      "NAMESPACE: databand\n",
      "STATUS: deployed\n",
      "REVISION: 1\n",
      "TEST SUITE: None\n",
      "NOTES:\n",
      "Congratulations. You have just deployed Databand\n",
      "\n",
      "1. Access the Databand Web UI by running these commands:\n",
      "\n",
      "   export SERVICE_NAME=$(kubectl get svc --namespace databand -l \"component=web,app=databand\" -o jsonpath=\"{.items[0].metadata.name}\")\n",
      "   kubectl port-forward --namespace databand svc/$SERVICE_NAME 8090:8090\n",
      "\n",
      "   Databand Web UI is available in your web browser via http://127.0.0.1:8090\n"
     ]
    }
   ],
   "source": [
    "cd $DATABAND_UNCOMPRESSED_DIR\n",
    "cd databand\n",
    "helm upgrade databand --install --namespace databand --values ./values-ocp.yaml --values ./user-values.yaml ."
   ]
  },
  {
   "attachments": {},
   "cell_type": "markdown",
   "metadata": {},
   "source": [
    "The output of the deplyoment command will display the way to access databand with port-forwarding, but there is another way. We just need to create the route that exposes the service."
   ]
  },
  {
   "cell_type": "code",
   "execution_count": 29,
   "metadata": {
    "vscode": {
     "languageId": "shellscript"
    }
   },
   "outputs": [
    {
     "name": "stdout",
     "output_type": "stream",
     "text": [
      "Already on project \"databand\" on server \"https://c102-e.us-east.containers.cloud.ibm.com:31723\".\n",
      "NAME                               TYPE        CLUSTER-IP       EXTERNAL-IP   PORT(S)    AGE\n",
      "databand-alert-defs-syncer         ClusterIP   172.21.228.28    <none>        5000/TCP   61m\n",
      "databand-celery-flower             ClusterIP   172.21.113.138   <none>        5555/TCP   61m\n",
      "databand-dbnd-datastage-monitor    ClusterIP   172.21.27.143    <none>        8006/TCP   61m\n",
      "databand-postgresql                ClusterIP   172.21.115.202   <none>        5432/TCP   61m\n",
      "databand-postgresql-hl             ClusterIP   None             <none>        5432/TCP   61m\n",
      "databand-prometheus-alertmanager   ClusterIP   172.21.212.49    <none>        9093/TCP   61m\n",
      "databand-prometheus-server         ClusterIP   172.21.126.52    <none>        9090/TCP   61m\n",
      "databand-redis-headless            ClusterIP   None             <none>        6379/TCP   61m\n",
      "databand-redis-master              ClusterIP   172.21.184.247   <none>        6379/TCP   61m\n",
      "databand-rule-engine               ClusterIP   172.21.110.63    <none>        8008/TCP   61m\n",
      "databand-tracking                  ClusterIP   172.21.126.40    <none>        8091/TCP   61m\n",
      "databand-web                       ClusterIP   172.21.78.138    <none>        8090/TCP   61m\n",
      "databand-webapp                    ClusterIP   172.21.69.198    <none>        80/TCP     61m\n",
      "Error from server (AlreadyExists): routes.route.openshift.io \"databand-web\" already exists\n"
     ]
    },
    {
     "ename": "",
     "evalue": "1",
     "output_type": "error",
     "traceback": []
    }
   ],
   "source": [
    "oc project databand\n",
    "oc get svc\n",
    "oc expose svc databand-web"
   ]
  },
  {
   "attachments": {},
   "cell_type": "markdown",
   "metadata": {},
   "source": [
    "In the next section, you will see how to verify that databand is running"
   ]
  },
  {
   "attachments": {},
   "cell_type": "markdown",
   "metadata": {},
   "source": [
    "## 4. Test Databand"
   ]
  },
  {
   "attachments": {},
   "cell_type": "markdown",
   "metadata": {},
   "source": [
    "We have just created a databand instance with the default user `databand` and password `databand`. If you want to test the deployment for the first time , go to the OpenShift console and proceed as follows:\n",
    "![](../pictures/opendataband.png)"
   ]
  },
  {
   "attachments": {},
   "cell_type": "markdown",
   "metadata": {},
   "source": [
    "Type the defaul credentials "
   ]
  },
  {
   "attachments": {},
   "cell_type": "markdown",
   "metadata": {},
   "source": [
    "![](../pictures/logindataband.png)"
   ]
  },
  {
   "attachments": {},
   "cell_type": "markdown",
   "metadata": {},
   "source": [
    "And the main dashboard of databand will start. Note that it is empty after the deployment."
   ]
  },
  {
   "attachments": {},
   "cell_type": "markdown",
   "metadata": {},
   "source": [
    "![](../pictures/maindataband.png)"
   ]
  },
  {
   "attachments": {},
   "cell_type": "markdown",
   "metadata": {},
   "source": [
    "\n",
    "---\n",
    "\n",
    "Next Section: [Airflow deployment](./3_airflow_deploy.ipynb).   Previous Section: [Databand deployment](./2_databand_deploy.ipynb)\n",
    "\n",
    "[Return to main](../README.md)\n"
   ]
  }
 ],
 "metadata": {
  "kernelspec": {
   "display_name": "Bash",
   "language": "bash",
   "name": "bash"
  },
  "language_info": {
   "codemirror_mode": "shell",
   "file_extension": ".sh",
   "mimetype": "text/x-sh",
   "name": "bash"
  },
  "orig_nbformat": 4
 },
 "nbformat": 4,
 "nbformat_minor": 2
}
