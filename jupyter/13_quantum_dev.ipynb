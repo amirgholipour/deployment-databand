{
 "cells": [
  {
   "attachments": {},
   "cell_type": "markdown",
   "metadata": {},
   "source": [
    "# Customized user metrics \n",
    "### _Exemplified with [Quantum Computing](https://quantum-computing.ibm.com/) algorithms_"
   ]
  },
  {
   "attachments": {},
   "cell_type": "markdown",
   "metadata": {},
   "source": [
    "This chapter will show one example of monitoring the performance data of any python program, with independence of it was originally designed as a data pipeline or perhaps for quite different purpose that might need to be analyzed in the context of a data preparation project. It is not necessary to install or setup any of the technical resources we will see below to understand the contents of this chapter. Consequently, this section will not necessarily be a hands-on exercise.\n",
    "\n",
    "The use case that we will inspect is one of the most basic algorithms in quantum computing: [The Quantum Teleportation](https://qiskit.org/textbook/ch-algorithms/teleportation.html). For this workshop, the only thing we need to know about it is that working with quantum computing implies, in the vast mayority of the current use cases, to code an algorithm in Python and, optionally for educational purposes, in a Jupyter environment like the [IBM Quantum Lab](https://quantum-computing.ibm.com/lab)."
   ]
  },
  {
   "attachments": {},
   "cell_type": "markdown",
   "metadata": {},
   "source": [
    "## 1. Enable the monitoring of an algorithm\n",
    "\n",
    "The only thing that we need to do is to add some lines of code in the quantum algorithm as described in the [Databand documentation](https://docs.databand.ai/docs/tracking-pipeline-metadata) and more specifically [here](https://docs.databand.ai/reference/logging) and [here](https://docs.databand.ai/docs/metrics). The following screenshots are taken in the IBM Quantum Lab environment and indicate the sections in the code that we want to track and the databand api calls that we need to embed. "
   ]
  },
  {
   "attachments": {},
   "cell_type": "markdown",
   "metadata": {},
   "source": [
    "![](../pictures/quantum_1.png)\n",
    "![](../pictures/quantum_2.png)"
   ]
  },
  {
   "attachments": {},
   "cell_type": "markdown",
   "metadata": {},
   "source": [
    "As you can see, we have simply used the functions:\n",
    "\n",
    "- [`dbnd_tracking`](https://docs.databand.ai/docs/python#tracking-context) to enable the tracking\n",
    "- [`log_metric`](https://docs.databand.ai/reference/log_metric ) to track variable parameters of the algorithm\n",
    "- [`log_duration`](https://docs.databand.ai/reference/log_duration) to track the elapsed time of the algorithm execution\n",
    "\n"
   ]
  },
  {
   "attachments": {},
   "cell_type": "markdown",
   "metadata": {},
   "source": [
    "Don't forget to add your credentials in the pipeline definition header, like we did in the chapter 9 [Python pipelines](./jupyter/9_python_dag_dev.ipynb)  "
   ]
  },
  {
   "attachments": {},
   "cell_type": "markdown",
   "metadata": {},
   "source": [
    "## 2. Observe the data collected"
   ]
  },
  {
   "attachments": {},
   "cell_type": "markdown",
   "metadata": {},
   "source": [
    "The metrics of our algorithm will be collected and displayed in the Metrics section of each run. Remember to select user metric types (default choice) and click on the purple icons of the metrics you want to be added to the graph.\n",
    "\n",
    "The variabiliy of the parameters in the algorithm execution will be displayed this way:"
   ]
  },
  {
   "attachments": {},
   "cell_type": "markdown",
   "metadata": {},
   "source": [
    "![](../pictures/quantum_3.png)\n"
   ]
  },
  {
   "attachments": {},
   "cell_type": "markdown",
   "metadata": {},
   "source": [
    "Analogously, the following graph is an indication of the execution time of the algorithm. Note that it is not the full execution time of the python program, but only the elapsed time that the quantum computer (actually, the simulator) was occupied executing the quantum circuit (the materialization of our algorithm)"
   ]
  },
  {
   "cell_type": "markdown",
   "metadata": {},
   "source": [
    "\n",
    "![](../pictures/quantum_4.png)"
   ]
  },
  {
   "attachments": {},
   "cell_type": "markdown",
   "metadata": {},
   "source": [
    "\n",
    "---\n",
    "\n",
    "Previous Section: [Alerts and exceptions](../jupyter/12_alerts_dev.ipynb)      \n",
    "\n",
    "[Return to main](../README.md)\n"
   ]
  }
 ],
 "metadata": {
  "kernelspec": {
   "display_name": "Bash",
   "language": "bash",
   "name": "bash"
  },
  "language_info": {
   "name": "bash"
  },
  "orig_nbformat": 4
 },
 "nbformat": 4,
 "nbformat_minor": 2
}
