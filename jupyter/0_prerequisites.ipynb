{
 "cells": [
  {
   "attachments": {},
   "cell_type": "markdown",
   "metadata": {},
   "source": [
    "![](../pictures/header.jpg)\n",
    "# Prerequisites\n",
    "\n",
    "If you want to run all exercises \"live\" and complete this workshop effectively, there are some pieces of software that you will need to install on your computer. Remember that it is not madatory at all, but you will be limited to a normal reading if you decide not to install them.\n",
    "\n",
    "## 1.- `bash`\n",
    "\n",
    "You will need to execute commands using your terminal and they use the conventions of the [bash shell](https://www.gnu.org/software/bash/). All Linux distributions and MacOS include bash or a compatible command-line interface. On Windows, you can try to setup the [Windows-Subsystem for Linux (WSL)](https://learn.microsoft.com/en-us/windows/wsl/) on your computer. If it is not possible to install bash, you will have to figure out an alternative way of issuing the commands you will see during all the modules.  If you are not familiar with bash, it is recommendable to visit online resources to get a basic knowledege. [Here](https://www.coursera.org/projects/coding-for-beginners-an-easy-introduction) you can see one of the many examples you could find.\n",
    "\n",
    "## 2.- Jupyter Notebooks and Python\n",
    "\n",
    "This workshop has been developed with [Jupyter Notebooks](https://jupyter-notebook.readthedocs.io/en/latest/) technology in order to maximize the user experience. While it is not strictly necessary, you should [install](https://docs.jupyter.org/en/latest/install/notebook-classic.html) it on your local computer. Otherwise, you will have to copy and paste the bash commands and execute them in a terminal.\n",
    "\n",
    "There are parts of the workshop that have been developed with [python](https://www.python.org/) which is a requirement of several technologies we will cover. There is no needed to be a python programmer but a basic knowledge is highly recommendable. Please review the introduction of any tutorial you may find in internet. The course mentioned [above](https://www.coursera.org/projects/coding-for-beginners-an-easy-introduction) may also be a good start.\n",
    "\n",
    "\n",
    "## 3.- `bash` kernel for Jupyter\n",
    "\n",
    "Jupyter is well-know for python development but it is also possible to extend its default kernel to include `bash` capabilities. Once you have installed Jupyter, you will need to run a very simple command in your `bash` terminal:"
   ]
  },
  {
   "cell_type": "code",
   "execution_count": null,
   "metadata": {
    "vscode": {
     "languageId": "shellscript"
    }
   },
   "outputs": [],
   "source": [
    "pip install bash_kernel\n",
    "python -m bash_kernel.install"
   ]
  },
  {
   "cell_type": "markdown",
   "metadata": {},
   "source": [
    "Notice that instaling Jupiter Notebooks implies an underlying python environment, as indicated during the [installation instructions](https://docs.jupyter.org/en/latest/install/notebook-classic.html)  mentioned above.\n",
    "\n",
    "By the way: there are several variations of bash kernels for jupyter. Take a look at the [web site](https://github.com/jupyter/jupyter/wiki/Jupyter-kernels) where all possible kernels are listed, search for bash and pick one that may fit better for you."
   ]
  },
  {
   "attachments": {},
   "cell_type": "markdown",
   "metadata": {},
   "source": [
    "After the installation of the bash kernel, you need to activate it just one time if you want to click on the cells to run the commands. You can do it this way if you are using Microsoft Visual Studio Code:"
   ]
  },
  {
   "attachments": {},
   "cell_type": "markdown",
   "metadata": {},
   "source": [
    "![](../pictures/bash_kernel_1.png)"
   ]
  },
  {
   "attachments": {},
   "cell_type": "markdown",
   "metadata": {},
   "source": [
    "Alternatively, if you use the native jupyter notebook tool:\n",
    "\n",
    "![](../pictures/bash_kernel_2.png)"
   ]
  },
  {
   "cell_type": "markdown",
   "metadata": {},
   "source": [
    "## 4.- Docker\n",
    "\n",
    "We will run some operations with containers like tagging or transferring them to a different repository. In order to do that we will need [docker](https://www.docker.com/) or [podman](https://podman.io/) as an alternative. A very convenient way of getting docker is downloading [docker desktop](https://www.docker.com/products/docker-desktop/). Alternatively, you may want to install docker with the command-line. In that case, you may want to run the following commands on RHEL8:\n",
    "\n",
    "First of all, get a clean python environment:"
   ]
  },
  {
   "cell_type": "code",
   "execution_count": null,
   "metadata": {
    "vscode": {
     "languageId": "shellscript"
    }
   },
   "outputs": [],
   "source": [
    "sudo yum install curl wget git\n",
    "sudo yum install gcc openssl-devel bzip2-devel libffi-devel zlib-devel\n",
    "sudo yum install python3.8\n",
    "sudo yum install python38-devel"
   ]
  },
  {
   "cell_type": "markdown",
   "metadata": {},
   "source": [
    "Then download, install and setup docker:"
   ]
  },
  {
   "cell_type": "code",
   "execution_count": null,
   "metadata": {
    "vscode": {
     "languageId": "shellscript"
    }
   },
   "outputs": [],
   "source": [
    "\n",
    "sudo yum install -y yum-utils\n",
    "sudo yum-config-manager --add-repo https://download.docker.com/linux/rhel/docker-ce.repo\n",
    "sudo sed -i 's~/rhel/~/centos/~g' /etc/yum.repos.d/docker-ce.repo\n",
    "sudo yum --noplugins install docker-ce docker-ce-cli containerd.io docker-compose-plugin\n",
    "\n",
    "sudo systemctl enable --now docker\n",
    "sudo systemctl start docker\n",
    "\n",
    "sudo usermod -aG docker $USER\n",
    "newgrp docker\n",
    "\n",
    "sudo pip3 install docker-compose"
   ]
  },
  {
   "cell_type": "markdown",
   "metadata": {},
   "source": [
    "Don't forget to start docker from the user interface if you installed docker desktop:\n",
    "\n",
    "![](../pictures/dockerstarting.png)"
   ]
  },
  {
   "cell_type": "markdown",
   "metadata": {},
   "source": [
    "Verify that docker is running by displaying the version"
   ]
  },
  {
   "cell_type": "code",
   "execution_count": null,
   "metadata": {
    "vscode": {
     "languageId": "shellscript"
    }
   },
   "outputs": [],
   "source": [
    "docker version"
   ]
  },
  {
   "attachments": {},
   "cell_type": "markdown",
   "metadata": {},
   "source": [
    "In case you are not familiar with Docker, [here](https://www.coursera.org/learn/ibm-containers-docker-kubernetes-openshift#syllabus) is a good introductory course that will help you to begin your journey into the world of containers and OpenShift."
   ]
  },
  {
   "cell_type": "markdown",
   "metadata": {},
   "source": [
    "## 5.- `oc` and `helm`\n",
    "\n",
    "The [OpenShift command-line interface (`oc`)](https://docs.openshift.com/container-platform/4.10/cli_reference/openshift_cli/getting-started-cli.html) and the [helm](https://helm.sh/) utility are also neccesary to run some commands. An alternative to `oc` is [`kubectl`](https://kubernetes.io/docs/tasks/tools/) but this worshop has not been tested with it. \n",
    "\n",
    "It may be more convenient to defer the installation of these utilities after having provisioned the hardware because the cluster contains direct links to the downloads you need, but you may want to do it now. In that case, you will need a RedHat account and follow these [instructions](https://docs.openshift.com/container-platform/4.10/cli_reference/openshift_cli/getting-started-cli.html). \n",
    "\n",
    "The download that you need to choose will be similar to this:\n",
    "\n",
    "![](../pictures/ocdownload.png)\n",
    "\n"
   ]
  },
  {
   "cell_type": "markdown",
   "metadata": {},
   "source": [
    "\n",
    "\n",
    "Then, just follow the installation procedure descibed [here](https://helm.sh/docs/intro/install/) to get `helm`\n",
    "\n",
    "\n",
    "\n",
    "\n"
   ]
  },
  {
   "cell_type": "markdown",
   "metadata": {},
   "source": [
    "## 6.- Databand images\n",
    "\n",
    "There are several media packages of databand and we need the helm chart version of the software for this workshop. This section describes the steps that an IBMer would follow to download the right package. Additionally, this is the point where I need you to encourage to adhere to the terms and conditions of a licensed software like databand. In simple words: do not distribute these images illegally or use them for other purposes other than your own education during this workshop.\n",
    "\n",
    "-  IBMers need to be connected to the IBM intranet or use the Cisco Secure Client in order to access the [IBM Internal DSW Downloads](https://w3south-limited-use.cpc.ibm.com/software/xl/download/ticket.wss).\n",
    "- Read the authorized and not autorized use of the software you will download. If you agree, you can go on\n",
    "- Search for databand like in the following picture:"
   ]
  },
  {
   "cell_type": "markdown",
   "metadata": {},
   "source": [
    "![](../pictures/DSw1.png )"
   ]
  },
  {
   "cell_type": "markdown",
   "metadata": {},
   "source": [
    "- Look for the helm charts version and download it:"
   ]
  },
  {
   "cell_type": "markdown",
   "metadata": {},
   "source": [
    "![](../pictures/DSw2.png)"
   ]
  },
  {
   "cell_type": "markdown",
   "metadata": {},
   "source": [
    "After pressing the blue button, the download will start and you will get a file similar to `databand-1.0.19-helm-chart.tar.gz` (960MB). Needless to say, names and sizes will change with upcoming versions."
   ]
  },
  {
   "cell_type": "markdown",
   "metadata": {},
   "source": [
    "## 7.- DataStage\n",
    "\n",
    "If you want to excercise with the integration of DataStage, you will need to create an instance in the IBM Cloud. The lite (free) plan is perfectly fine for this workshop."
   ]
  },
  {
   "cell_type": "markdown",
   "metadata": {},
   "source": [
    "![](../pictures/datastageInstance.png)"
   ]
  },
  {
   "attachments": {},
   "cell_type": "markdown",
   "metadata": {},
   "source": [
    "## 8.- Airflow\n",
    "\n",
    "It is highly recommendable, but not strictly necessary, to master the basic concepts of [Apache Airflow](https://airflow.apache.org/). There are plenty of tutorials in internet and visiting any introduction would be enough to follow the workshop. [Here](https://www.coursera.org/lecture/etl-and-data-pipelines-shell-airflow-kafka/apache-airflow-overview-Uyfwg) is a good example."
   ]
  },
  {
   "attachments": {},
   "cell_type": "markdown",
   "metadata": {},
   "source": [
    "## 9. OpenShift\n",
    "\n",
    "You need to provision an OpenShift cluster as a part of the hands-on workshop. If you are not familiar with OpenShift, [this](https://learn.ibm.com/course/view.php?id=9394) may be your starting point but, please, review the next chapter [Hardware Provisioning](./1_provisioning.ipynb) for a full description of this pre-requisite.\n"
   ]
  },
  {
   "cell_type": "markdown",
   "metadata": {},
   "source": [
    "\n",
    "\n",
    "---\n",
    "\n",
    "Next Section: [Hardware Provisioning](./1_provisioning.ipynb)\n",
    "\n",
    "[Return to main](../README.md)"
   ]
  }
 ],
 "metadata": {
  "kernelspec": {
   "display_name": "Bash",
   "language": "bash",
   "name": "bash"
  },
  "language_info": {
   "codemirror_mode": "shell",
   "file_extension": ".sh",
   "mimetype": "text/x-sh",
   "name": "bash"
  },
  "vscode": {
   "interpreter": {
    "hash": "7368f8049dce8465172f72d10d47a2dfc42fece53149f0d9b8e5b39df520afe5"
   }
  }
 },
 "nbformat": 4,
 "nbformat_minor": 2
}
