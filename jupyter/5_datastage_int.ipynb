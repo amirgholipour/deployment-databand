{
 "cells": [
  {
   "attachments": {},
   "cell_type": "markdown",
   "metadata": {},
   "source": [
    "![](../pictures/DataStage.png)"
   ]
  },
  {
   "cell_type": "markdown",
   "metadata": {},
   "source": [
    "# DataStage Integration"
   ]
  },
  {
   "attachments": {},
   "cell_type": "markdown",
   "metadata": {},
   "source": [
    "This section will assume you have already created an instance of DataStage as indicated in the prerequistites section. You will also need a project and a data flow asset. \n",
    "\n",
    "## 1. Test project and test flow\n",
    "In case you already have a project and a DataStage flow you can use for testing, you can skip the next two steps. If not, they can be easily created in CloudPak for Data console by choosing the Sample Project and following the steps of the project creation interface.\n",
    "\n",
    "![](../pictures/datastageproject.png)"
   ]
  },
  {
   "cell_type": "markdown",
   "metadata": {},
   "source": [
    "Once the project is created, open the data flow asset and review that it contains a pipeline that can be run without errors.\n",
    "\n",
    "\n",
    "![](../pictures/datastage1.png)"
   ]
  },
  {
   "attachments": {},
   "cell_type": "markdown",
   "metadata": {},
   "source": [
    "## 2. API Key"
   ]
  },
  {
   "attachments": {},
   "cell_type": "markdown",
   "metadata": {},
   "source": [
    "Databand only needs an API key to access the pipelines created on DataStage projects. If you have no API key that you can use for this purpose, generate one:\n",
    "\n",
    "\n",
    "![](../pictures/datastage3.png)\n",
    "\n",
    "\n",
    "![](../pictures/datastage4.png)\n",
    "\n",
    "\n",
    "![](../pictures/datastage5.png)\n",
    "\n",
    "\n",
    "![](../pictures/datastage6.png)"
   ]
  },
  {
   "attachments": {},
   "cell_type": "markdown",
   "metadata": {},
   "source": [
    "## 3. Databand configuration"
   ]
  },
  {
   "attachments": {},
   "cell_type": "markdown",
   "metadata": {},
   "source": [
    "Now, you must enter that key in the Databand configuration. Open the Databand console: \n",
    "\n",
    "\n",
    "![](../pictures/datastage7.png)"
   ]
  },
  {
   "attachments": {},
   "cell_type": "markdown",
   "metadata": {},
   "source": [
    "Select DataStage and, in the next prompt, select cloud user\n",
    "\n",
    "![](../pictures//datastage8.png)"
   ]
  },
  {
   "attachments": {},
   "cell_type": "markdown",
   "metadata": {},
   "source": [
    "Now, you can paste the API key\n",
    "\n",
    "![](../pictures/datastage9.png)"
   ]
  },
  {
   "attachments": {},
   "cell_type": "markdown",
   "metadata": {},
   "source": [
    "Then, you will be asked to select the project(s) you want to track:\n",
    "![](../pictures/datastage10.png)\n"
   ]
  },
  {
   "attachments": {},
   "cell_type": "markdown",
   "metadata": {},
   "source": [
    "From this moment, all runs of the DataStage jobs included in this project will be captured by Databand.\n",
    "\n",
    "![](../pictures/datastage12.png)\n",
    "![](../pictures/datastage13.png)\n"
   ]
  },
  {
   "attachments": {},
   "cell_type": "markdown",
   "metadata": {},
   "source": [
    "\n",
    "---\n",
    "\n",
    "Previous Section: [Airflow integration](./4_airflow_int.ipynb)\n",
    "\n",
    "[Return to main](../README.md)\n"
   ]
  }
 ],
 "metadata": {
  "kernelspec": {
   "display_name": "Bash",
   "language": "bash",
   "name": "bash"
  },
  "language_info": {
   "name": "bash",
   "version": "3.8.13"
  },
  "orig_nbformat": 4,
  "vscode": {
   "interpreter": {
    "hash": "7368f8049dce8465172f72d10d47a2dfc42fece53149f0d9b8e5b39df520afe5"
   }
  }
 },
 "nbformat": 4,
 "nbformat_minor": 2
}
