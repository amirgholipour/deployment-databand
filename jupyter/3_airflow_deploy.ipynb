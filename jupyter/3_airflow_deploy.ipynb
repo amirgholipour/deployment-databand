{
 "cells": [
  {
   "cell_type": "markdown",
   "metadata": {},
   "source": [
    "![](../pictures/AirflowLogo.png)"
   ]
  },
  {
   "cell_type": "markdown",
   "metadata": {},
   "source": [
    "# Apache Airflow Deployment"
   ]
  },
  {
   "cell_type": "markdown",
   "metadata": {},
   "source": [
    "To start the deployment, we need to be logged into the cluster:"
   ]
  },
  {
   "cell_type": "code",
   "execution_count": 1,
   "metadata": {
    "vscode": {
     "languageId": "shellscript"
    }
   },
   "outputs": [
    {
     "name": "stdout",
     "output_type": "stream",
     "text": [
      "Logged into \"https://c103-e.us-south.containers.cloud.ibm.com:32536\" as \"IAM#angelito@de.ibm.com\" using the token provided.\n",
      "\n",
      "You have access to 67 projects, the list has been suppressed. You can list all projects with 'oc projects'\n",
      "\n",
      "Using project \"default\".\n"
     ]
    }
   ],
   "source": [
    "# Replace the command with your own one inside the single quotes and run the cell\n",
    "# Example OC_LOGIN_COMMAND='oc login --token=sha256~3bR5KXgwiUoaQiph2_kIXCDQnVfm_HQy3YwU2m-UOrs --server=https://c109-e.us-east.containers.cloud.ibm.com:31656'\n",
    "OC_LOGIN_COMMAND='oc login --token=sha256~2uCCV-OLqY_c2BNNn4OVo-PtJQIn0Hpx0oikvSTGEro --server=https://c103-e.us-south.containers.cloud.ibm.com:32536'\n",
    "$OC_LOGIN_COMMAND"
   ]
  },
  {
   "cell_type": "markdown",
   "metadata": {},
   "source": [
    "In order to identify and separate Airflow from the rest of the cluster, we create a project called `airflow`"
   ]
  },
  {
   "cell_type": "code",
   "execution_count": 2,
   "metadata": {
    "vscode": {
     "languageId": "shellscript"
    }
   },
   "outputs": [
    {
     "name": "stdout",
     "output_type": "stream",
     "text": [
      "Now using project \"airflow\" on server \"https://c103-e.us-south.containers.cloud.ibm.com:32536\".\n",
      "\n",
      "You can add applications to this project with the 'new-app' command. For example, try:\n",
      "\n",
      "    oc new-app rails-postgresql-example\n",
      "\n",
      "to build a new example application in Ruby. Or use kubectl to deploy a simple Kubernetes application:\n",
      "\n",
      "    kubectl create deployment hello-node --image=k8s.gcr.io/e2e-test-images/agnhost:2.33 -- /agnhost serve-hostname\n",
      "\n"
     ]
    }
   ],
   "source": [
    "oc new-project airflow "
   ]
  },
  {
   "cell_type": "markdown",
   "metadata": {},
   "source": [
    "Now, we get the official helm charts for Airflow:"
   ]
  },
  {
   "cell_type": "code",
   "execution_count": 3,
   "metadata": {
    "vscode": {
     "languageId": "shellscript"
    }
   },
   "outputs": [
    {
     "name": "stdout",
     "output_type": "stream",
     "text": [
      "\"apache-airflow\" already exists with the same configuration, skipping\n",
      "Hang tight while we grab the latest from your chart repositories...\n",
      "...Successfully got an update from the \"apache-airflow\" chart repository\n",
      "Update Complete. ⎈Happy Helming!⎈\n"
     ]
    }
   ],
   "source": [
    "helm repo add apache-airflow https://airflow.apache.org\n",
    "helm repo update"
   ]
  },
  {
   "cell_type": "markdown",
   "metadata": {},
   "source": [
    "The next commands avoid security errors that cause deployment failures."
   ]
  },
  {
   "cell_type": "code",
   "execution_count": 4,
   "metadata": {
    "vscode": {
     "languageId": "shellscript"
    }
   },
   "outputs": [
    {
     "name": "stdout",
     "output_type": "stream",
     "text": [
      "clusterrole.rbac.authorization.k8s.io/system:openshift:scc:anyuid added: \"system:serviceaccounts:airflow\"\n",
      "clusterrole.rbac.authorization.k8s.io/system:openshift:scc:privileged added: \"system:serviceaccounts:airflow\"\n"
     ]
    }
   ],
   "source": [
    "oc adm policy add-scc-to-group anyuid system:serviceaccounts:airflow   \n",
    "oc adm policy add-scc-to-group privileged system:serviceaccounts:airflow "
   ]
  },
  {
   "cell_type": "markdown",
   "metadata": {},
   "source": [
    "And the actual deployment starts now:"
   ]
  },
  {
   "cell_type": "code",
   "execution_count": null,
   "metadata": {
    "vscode": {
     "languageId": "shellscript"
    }
   },
   "outputs": [],
   "source": [
    "helm upgrade --install airflow apache-airflow/airflow --namespace airflow"
   ]
  },
  {
   "cell_type": "markdown",
   "metadata": {},
   "source": [
    "If the deployment went well, you will see several pods running:"
   ]
  },
  {
   "cell_type": "code",
   "execution_count": 5,
   "metadata": {
    "vscode": {
     "languageId": "shellscript"
    }
   },
   "outputs": [
    {
     "name": "stdout",
     "output_type": "stream",
     "text": [
      "NAME                                 READY   STATUS    RESTARTS   AGE\n",
      "airflow-postgresql-0                 1/1     Running   0          7m52s\n",
      "airflow-redis-0                      1/1     Running   0          7m52s\n",
      "airflow-scheduler-d754df798-d2tdp    2/2     Running   0          7m53s\n",
      "airflow-statsd-d8c8f886c-hhlwp       1/1     Running   0          7m53s\n",
      "airflow-triggerer-7f77657d87-vxhrw   1/1     Running   0          7m53s\n",
      "airflow-webserver-6489c6c947-p7jrl   1/1     Running   0          7m53s\n",
      "airflow-worker-0                     2/2     Running   0          7m52s\n"
     ]
    }
   ],
   "source": [
    "oc get pods"
   ]
  },
  {
   "cell_type": "markdown",
   "metadata": {},
   "source": [
    "Next, you we need to add a route to the custer to access Airflow:"
   ]
  },
  {
   "cell_type": "code",
   "execution_count": 6,
   "metadata": {
    "vscode": {
     "languageId": "shellscript"
    }
   },
   "outputs": [
    {
     "name": "stdout",
     "output_type": "stream",
     "text": [
      "NAME                    TYPE        CLUSTER-IP       EXTERNAL-IP   PORT(S)             AGE\n",
      "airflow-postgresql      ClusterIP   172.21.64.58     <none>        5432/TCP            8m1s\n",
      "airflow-postgresql-hl   ClusterIP   None             <none>        5432/TCP            8m1s\n",
      "airflow-redis           ClusterIP   172.21.150.136   <none>        6379/TCP            8m1s\n",
      "airflow-statsd          ClusterIP   172.21.28.183    <none>        9125/UDP,9102/TCP   8m1s\n",
      "airflow-webserver       ClusterIP   172.21.87.154    <none>        8080/TCP            8m1s\n",
      "airflow-worker          ClusterIP   None             <none>        8793/TCP            8m1s\n",
      "route.route.openshift.io/airflow-webserver exposed\n"
     ]
    }
   ],
   "source": [
    "oc get svc\n",
    "oc expose svc airflow-webserver "
   ]
  },
  {
   "cell_type": "markdown",
   "metadata": {},
   "source": [
    "And, just like we did with databand, we get access url from the OpenShift console:"
   ]
  },
  {
   "cell_type": "markdown",
   "metadata": {},
   "source": [
    "![](../pictures/airflowroute.png)"
   ]
  },
  {
   "cell_type": "markdown",
   "metadata": {},
   "source": [
    "You can login with the default user: `admin` and default password: `admin`. Then you will see the main dashboard of Airflow"
   ]
  },
  {
   "cell_type": "markdown",
   "metadata": {},
   "source": [
    "![](../pictures/airflowempty.png)"
   ]
  },
  {
   "cell_type": "markdown",
   "metadata": {},
   "source": [
    "Indeed, the main dashboard is empty because the default helm deployment disables the default DAGs. If you really miss them, you can modify an environment and re-deploy Airflow"
   ]
  },
  {
   "cell_type": "code",
   "execution_count": null,
   "metadata": {
    "vscode": {
     "languageId": "shellscript"
    }
   },
   "outputs": [],
   "source": [
    "helm upgrade airflow apache-airflow/airflow -f - << EOF\n",
    "extraEnv: |\n",
    "   - name: AIRFLOW__CORE__LOAD_EXAMPLES\n",
    "     value: 'True' \n",
    "EOF"
   ]
  },
  {
   "cell_type": "markdown",
   "metadata": {},
   "source": [
    "And now, you will see them:"
   ]
  },
  {
   "cell_type": "markdown",
   "metadata": {},
   "source": [
    "![](../pictures/airflowdefault.png)"
   ]
  },
  {
   "cell_type": "markdown",
   "metadata": {},
   "source": [
    "\n",
    "---\n",
    "\n",
    "Next Section: [Airflow integration](./4_airflow_int.ipynb).   Previous Section: [Databand deployment](./2_databand_deploy.ipynb)\n",
    "\n",
    "[Return to main](../README.md)\n"
   ]
  }
 ],
 "metadata": {
  "kernelspec": {
   "display_name": "Bash",
   "language": "bash",
   "name": "bash"
  },
  "language_info": {
   "codemirror_mode": "shell",
   "file_extension": ".sh",
   "mimetype": "text/x-sh",
   "name": "bash"
  },
  "vscode": {
   "interpreter": {
    "hash": "7368f8049dce8465172f72d10d47a2dfc42fece53149f0d9b8e5b39df520afe5"
   }
  }
 },
 "nbformat": 4,
 "nbformat_minor": 2
}
