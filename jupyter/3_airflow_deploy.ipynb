{
 "cells": [
  {
   "attachments": {},
   "cell_type": "markdown",
   "metadata": {},
   "source": [
    "![](../pictures/AirflowLogo.png)"
   ]
  },
  {
   "attachments": {},
   "cell_type": "markdown",
   "metadata": {},
   "source": [
    "# Apache Airflow Deployment"
   ]
  },
  {
   "attachments": {},
   "cell_type": "markdown",
   "metadata": {},
   "source": [
    "To start the deployment, we need to be logged into the cluster:"
   ]
  },
  {
   "cell_type": "code",
   "execution_count": 2,
   "metadata": {
    "vscode": {
     "languageId": "shellscript"
    }
   },
   "outputs": [
    {
     "name": "stdout",
     "output_type": "stream",
     "text": [
      "Logged into \"https://c102-e.us-east.containers.cloud.ibm.com:31723\" as \"IAM#angelito@de.ibm.com\" using the token provided.\n",
      "\n",
      "You have access to 68 projects, the list has been suppressed. You can list all projects with 'oc projects'\n",
      "\n",
      "Using project \"databand\".\n"
     ]
    }
   ],
   "source": [
    "# Replace the command with your own one inside the single quotes and run the cell\n",
    "# Example OC_LOGIN_COMMAND='oc login --token=sha256~3bR5KXgwiUoaQiph2_kIXCDQnVfm_HQy3YwU2m-UOrs --server=https://c109-e.us-east.containers.cloud.ibm.com:31656'\n",
    "OC_LOGIN_COMMAND='_paste_here_your_login_command_'\n",
    "$OC_LOGIN_COMMAND"
   ]
  },
  {
   "attachments": {},
   "cell_type": "markdown",
   "metadata": {},
   "source": [
    "In order to identify and separate Airflow from the rest of the cluster, we create a project called `airflow`"
   ]
  },
  {
   "cell_type": "code",
   "execution_count": 26,
   "metadata": {
    "vscode": {
     "languageId": "shellscript"
    }
   },
   "outputs": [
    {
     "name": "stdout",
     "output_type": "stream",
     "text": [
      "Already on project \"airflow\" on server \"https://c102-e.us-east.containers.cloud.ibm.com:31723\".\n",
      "\n",
      "You can add applications to this project with the 'new-app' command. For example, try:\n",
      "\n",
      "    oc new-app rails-postgresql-example\n",
      "\n",
      "to build a new example application in Ruby. Or use kubectl to deploy a simple Kubernetes application:\n",
      "\n",
      "    kubectl create deployment hello-node --image=k8s.gcr.io/e2e-test-images/agnhost:2.33 -- /agnhost serve-hostname\n",
      "\n"
     ]
    }
   ],
   "source": [
    "oc new-project airflow "
   ]
  },
  {
   "attachments": {},
   "cell_type": "markdown",
   "metadata": {},
   "source": [
    "Now, we get the official helm charts for Airflow:"
   ]
  },
  {
   "cell_type": "code",
   "execution_count": 27,
   "metadata": {
    "vscode": {
     "languageId": "shellscript"
    }
   },
   "outputs": [
    {
     "name": "stdout",
     "output_type": "stream",
     "text": [
      "\"apache-airflow\" already exists with the same configuration, skipping\n",
      "Hang tight while we grab the latest from your chart repositories...\n",
      "...Successfully got an update from the \"apache-airflow\" chart repository\n",
      "Update Complete. ⎈Happy Helming!⎈\n"
     ]
    }
   ],
   "source": [
    "helm repo add apache-airflow https://airflow.apache.org\n",
    "helm repo update"
   ]
  },
  {
   "attachments": {},
   "cell_type": "markdown",
   "metadata": {},
   "source": [
    "And the actual deployment starts now:"
   ]
  },
  {
   "cell_type": "code",
   "execution_count": 28,
   "metadata": {
    "vscode": {
     "languageId": "shellscript"
    }
   },
   "outputs": [
    {
     "name": "stdout",
     "output_type": "stream",
     "text": [
      "Release \"airflow\" does not exist. Installing it now.\n",
      "NAME: airflow\n",
      "LAST DEPLOYED: Thu Mar  2 16:42:30 2023\n",
      "NAMESPACE: airflow\n",
      "STATUS: deployed\n",
      "REVISION: 1\n",
      "TEST SUITE: None\n",
      "NOTES:\n",
      "Thank you for installing Apache Airflow 2.5.1!\n",
      "\n",
      "Your release is named airflow.\n",
      "You can now access your dashboard(s) by executing the following command(s) and visiting the corresponding port at localhost in your browser:\n",
      "\n",
      "Airflow Webserver:     kubectl port-forward svc/airflow-webserver 8080:8080 --namespace airflow\n",
      "Default Webserver (Airflow UI) Login credentials:\n",
      "    username: admin\n",
      "    password: admin\n",
      "Default Postgres connection credentials:\n",
      "    username: postgres\n",
      "    password: postgres\n",
      "    port: 5432\n",
      "\n",
      "You can get Fernet Key value by running the following:\n",
      "\n",
      "    echo Fernet Key: $(kubectl get secret --namespace airflow airflow-fernet-key -o jsonpath=\"{.data.fernet-key}\" | base64 --decode)\n",
      "\n",
      "###########################################################\n",
      "#  WARNING: You should set a static webserver secret key  #\n",
      "###########################################################\n",
      "\n",
      "You are using a dynamically generated webserver secret key, which can lead to\n",
      "unnecessary restarts of your Airflow components.\n",
      "\n",
      "Information on how to set a static webserver secret key can be found here:\n",
      "https://airflow.apache.org/docs/helm-chart/stable/production-guide.html#webserver-secret-key\n"
     ]
    }
   ],
   "source": [
    "helm upgrade --install airflow apache-airflow/airflow --namespace airflow"
   ]
  },
  {
   "attachments": {},
   "cell_type": "markdown",
   "metadata": {},
   "source": [
    "After five minutes you may get a timeout error. and if you take a look at the OpenShift console, you may see errors like this:"
   ]
  },
  {
   "attachments": {},
   "cell_type": "markdown",
   "metadata": {},
   "source": [
    "![](../pictures/airflowerror.png)"
   ]
  },
  {
   "attachments": {},
   "cell_type": "markdown",
   "metadata": {},
   "source": [
    "In that case, you need to change these security settings:"
   ]
  },
  {
   "cell_type": "code",
   "execution_count": 20,
   "metadata": {
    "vscode": {
     "languageId": "shellscript"
    }
   },
   "outputs": [
    {
     "name": "stdout",
     "output_type": "stream",
     "text": [
      "clusterrole.rbac.authorization.k8s.io/system:openshift:scc:anyuid added: \"system:serviceaccounts:airflow\"\n",
      "clusterrole.rbac.authorization.k8s.io/system:openshift:scc:privileged added: \"system:serviceaccounts:airflow\"\n"
     ]
    }
   ],
   "source": [
    "oc adm policy add-scc-to-group anyuid system:serviceaccounts:airflow   \n",
    "oc adm policy add-scc-to-group privileged system:serviceaccounts:airflow "
   ]
  },
  {
   "cell_type": "markdown",
   "metadata": {},
   "source": [
    "And re-try the deployment:"
   ]
  },
  {
   "cell_type": "code",
   "execution_count": 22,
   "metadata": {
    "vscode": {
     "languageId": "shellscript"
    }
   },
   "outputs": [
    {
     "name": "stdout",
     "output_type": "stream",
     "text": [
      "Release \"airflow\" has been upgraded. Happy Helming!\n",
      "NAME: airflow\n",
      "LAST DEPLOYED: Thu Mar  2 16:36:12 2023\n",
      "NAMESPACE: airflow\n",
      "STATUS: deployed\n",
      "REVISION: 2\n",
      "TEST SUITE: None\n",
      "NOTES:\n",
      "Thank you for installing Apache Airflow 2.5.1!\n",
      "\n",
      "Your release is named airflow.\n",
      "You can now access your dashboard(s) by executing the following command(s) and visiting the corresponding port at localhost in your browser:\n",
      "\n",
      "Airflow Webserver:     kubectl port-forward svc/airflow-webserver 8080:8080 --namespace airflow\n",
      "Default Webserver (Airflow UI) Login credentials:\n",
      "    username: admin\n",
      "    password: admin\n",
      "Default Postgres connection credentials:\n",
      "    username: postgres\n",
      "    password: postgres\n",
      "    port: 5432\n",
      "\n",
      "You can get Fernet Key value by running the following:\n",
      "\n",
      "    echo Fernet Key: $(kubectl get secret --namespace airflow airflow-fernet-key -o jsonpath=\"{.data.fernet-key}\" | base64 --decode)\n",
      "\n",
      "###########################################################\n",
      "#  WARNING: You should set a static webserver secret key  #\n",
      "###########################################################\n",
      "\n",
      "You are using a dynamically generated webserver secret key, which can lead to\n",
      "unnecessary restarts of your Airflow components.\n",
      "\n",
      "Information on how to set a static webserver secret key can be found here:\n",
      "https://airflow.apache.org/docs/helm-chart/stable/production-guide.html#webserver-secret-key\n"
     ]
    }
   ],
   "source": [
    "helm upgrade airflow apache-airflow/airflow --namespace airflow "
   ]
  },
  {
   "attachments": {},
   "cell_type": "markdown",
   "metadata": {},
   "source": [
    "If the deployment went well, you will see several pods running:"
   ]
  },
  {
   "cell_type": "code",
   "execution_count": 30,
   "metadata": {
    "vscode": {
     "languageId": "shellscript"
    }
   },
   "outputs": [
    {
     "name": "stdout",
     "output_type": "stream",
     "text": [
      "NAME                                 READY   STATUS    RESTARTS      AGE\n",
      "airflow-postgresql-0                 1/1     Running   0             4m2s\n",
      "airflow-redis-0                      1/1     Running   0             4m2s\n",
      "airflow-scheduler-6c7b454c-zrbzg     2/2     Running   0             4m2s\n",
      "airflow-statsd-d8c8f886c-mdffw       1/1     Running   0             4m2s\n",
      "airflow-triggerer-559ffb9496-f8jmh   1/1     Running   0             4m2s\n",
      "airflow-webserver-758c974499-vxldl   0/1     Running   1 (54s ago)   4m2s\n",
      "airflow-worker-0                     2/2     Running   0             4m2s\n"
     ]
    }
   ],
   "source": [
    "oc get pods"
   ]
  },
  {
   "attachments": {},
   "cell_type": "markdown",
   "metadata": {},
   "source": [
    "Next, you we need to add a route to the custer to access Airflow:"
   ]
  },
  {
   "cell_type": "code",
   "execution_count": 31,
   "metadata": {
    "vscode": {
     "languageId": "shellscript"
    }
   },
   "outputs": [
    {
     "name": "stdout",
     "output_type": "stream",
     "text": [
      "NAME                    TYPE        CLUSTER-IP       EXTERNAL-IP   PORT(S)             AGE\n",
      "airflow-postgresql      ClusterIP   172.21.171.109   <none>        5432/TCP            4m13s\n",
      "airflow-postgresql-hl   ClusterIP   None             <none>        5432/TCP            4m13s\n",
      "airflow-redis           ClusterIP   172.21.75.90     <none>        6379/TCP            4m13s\n",
      "airflow-statsd          ClusterIP   172.21.67.35     <none>        9125/UDP,9102/TCP   4m13s\n",
      "airflow-webserver       ClusterIP   172.21.123.197   <none>        8080/TCP            4m13s\n",
      "airflow-worker          ClusterIP   None             <none>        8793/TCP            4m13s\n",
      "route.route.openshift.io/airflow-webserver exposed\n"
     ]
    }
   ],
   "source": [
    "oc get svc\n",
    "oc expose svc airflow-webserver "
   ]
  },
  {
   "attachments": {},
   "cell_type": "markdown",
   "metadata": {},
   "source": [
    "And, just like we did with databand, we get access url from the OpenShift console:"
   ]
  },
  {
   "attachments": {},
   "cell_type": "markdown",
   "metadata": {},
   "source": [
    "![](../pictures/airflowroute.png)"
   ]
  },
  {
   "attachments": {},
   "cell_type": "markdown",
   "metadata": {},
   "source": [
    "You can login with the default user: `admin` and default password: `admin`. Then you will see the main dashboard of Airflow"
   ]
  },
  {
   "attachments": {},
   "cell_type": "markdown",
   "metadata": {},
   "source": [
    "![](../pictures/airflowempty.png)"
   ]
  },
  {
   "attachments": {},
   "cell_type": "markdown",
   "metadata": {},
   "source": [
    "Indeed, the main dashboard is empty because the default helm deployment disables the default DAGs. If you really miss them, you can modify an environment and re-deploy Airflow"
   ]
  },
  {
   "cell_type": "code",
   "execution_count": null,
   "metadata": {
    "vscode": {
     "languageId": "shellscript"
    }
   },
   "outputs": [],
   "source": [
    "# helm upgrade airflow apache-airflow/airflow -f - << EOF\n",
    "# extraEnv: |\n",
    "#   - name: AIRFLOW__CORE__LOAD_EXAMPLES\n",
    "#     value: 'True'\" > vs-override.yaml\n",
    "# EOF"
   ]
  },
  {
   "cell_type": "code",
   "execution_count": 32,
   "metadata": {
    "vscode": {
     "languageId": "shellscript"
    }
   },
   "outputs": [
    {
     "name": "stdout",
     "output_type": "stream",
     "text": [
      "Release \"airflow\" has been upgraded. Happy Helming!\n",
      "NAME: airflow\n",
      "LAST DEPLOYED: Thu Mar  2 16:49:20 2023\n",
      "NAMESPACE: airflow\n",
      "STATUS: deployed\n",
      "REVISION: 2\n",
      "TEST SUITE: None\n",
      "NOTES:\n",
      "Thank you for installing Apache Airflow 2.5.1!\n",
      "\n",
      "Your release is named airflow.\n",
      "You can now access your dashboard(s) by executing the following command(s) and visiting the corresponding port at localhost in your browser:\n",
      "\n",
      "Airflow Webserver:     kubectl port-forward svc/airflow-webserver 8080:8080 --namespace airflow\n",
      "Default Webserver (Airflow UI) Login credentials:\n",
      "    username: admin\n",
      "    password: admin\n",
      "Default Postgres connection credentials:\n",
      "    username: postgres\n",
      "    password: postgres\n",
      "    port: 5432\n",
      "\n",
      "You can get Fernet Key value by running the following:\n",
      "\n",
      "    echo Fernet Key: $(kubectl get secret --namespace airflow airflow-fernet-key -o jsonpath=\"{.data.fernet-key}\" | base64 --decode)\n",
      "\n",
      "###########################################################\n",
      "#  WARNING: You should set a static webserver secret key  #\n",
      "###########################################################\n",
      "\n",
      "You are using a dynamically generated webserver secret key, which can lead to\n",
      "unnecessary restarts of your Airflow components.\n",
      "\n",
      "Information on how to set a static webserver secret key can be found here:\n",
      "https://airflow.apache.org/docs/helm-chart/stable/production-guide.html#webserver-secret-key\n"
     ]
    }
   ],
   "source": [
    "# We need to generate a small file. Choose a temporary directory and paste it in the next line\n",
    "cd '_any_temporary_directory_with_write_permission_'\n",
    "echo \"extraEnv: |\n",
    "  - name: AIRFLOW__CORE__LOAD_EXAMPLES\n",
    "    value: 'True'\" > vs-override.yaml\n",
    "\n",
    "helm upgrade airflow apache-airflow/airflow -f vs-override.yaml"
   ]
  },
  {
   "attachments": {},
   "cell_type": "markdown",
   "metadata": {},
   "source": [
    "And now, you will see them:"
   ]
  },
  {
   "attachments": {},
   "cell_type": "markdown",
   "metadata": {},
   "source": [
    "![](../pictures/airflowdefault.png)"
   ]
  },
  {
   "attachments": {},
   "cell_type": "markdown",
   "metadata": {},
   "source": [
    "\n",
    "---\n",
    "\n",
    "Next Section: [Airflow integration](./4_airflow_int.ipynb).   Previous Section: [Databand deployment](./2_databand_deploy.ipynb)\n",
    "\n",
    "[Return to main](../README.md)\n"
   ]
  }
 ],
 "metadata": {
  "kernelspec": {
   "display_name": "Bash",
   "language": "bash",
   "name": "bash"
  },
  "language_info": {
   "codemirror_mode": "shell",
   "file_extension": ".sh",
   "mimetype": "text/x-sh",
   "name": "bash"
  },
  "orig_nbformat": 4,
  "vscode": {
   "interpreter": {
    "hash": "7368f8049dce8465172f72d10d47a2dfc42fece53149f0d9b8e5b39df520afe5"
   }
  }
 },
 "nbformat": 4,
 "nbformat_minor": 2
}
