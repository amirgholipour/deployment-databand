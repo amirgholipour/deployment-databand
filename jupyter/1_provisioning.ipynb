{
 "cells": [
  {
   "cell_type": "markdown",
   "metadata": {},
   "source": [
    "![](../pictures/openshift.png)"
   ]
  },
  {
   "attachments": {},
   "cell_type": "markdown",
   "metadata": {},
   "source": [
    "# OpenShift Cluster\n",
    "\n",
    "You will use your own small OpenShift cluster during this workshop. However, the procedures we will follow are analogous to a Kubernetes cluster. Remember that the minimum requirements for for OpenShift / Kubernetes are fully documented in the databand [deployment guide](https://docs.databand.ai/docs/installing-databand-in-kubernetes-cluster) "
   ]
  },
  {
   "attachments": {},
   "cell_type": "markdown",
   "metadata": {},
   "source": [
    "## 1. TechZone\n",
    "\n",
    "One of the best benefits for becoming an IBM Business Partner is the [access to the IBM Techzone](https://www.linkedin.com/pulse/did-you-know-ibm-technology-zone-available-business-free-sachdeva/?trk=pulse-article_more-articles_related-content-card). Once you get the entitlement, you have access to a vast variety of resources with just your [IBMId](https://www.ibm.com/account/us-en/). If you are an IBMer, you have already been granted with the TechZone access by default.\n",
    "\n",
    "In this workshop, we will provision one Openshift cluster from the IBM Techzone and, among the several options and variations you can find, it is recommended to choose a basic cluster. Log in to the [Techzone](https://techzone.ibm.com/) and search for an offering following the indications of this picture:\n",
    "\n",
    "![](../pictures/ROKS.png)\n",
    "\n",
    "You will see a few options to size the cluster and the smallest configuration will be enough to run everything on this workshop. However, you may want to choose a bigger one - it will work as well.\n",
    "\n",
    "<span style=\"color:red\">Please ensure to pick **the option with NFS storage** and do not forget to specify a size of 500GB or 1 TB. </span>\n",
    "\n",
    "![](../pictures/nfs.png)\n",
    "\n",
    "\n",
    "Wait for an email that notifies you that the system is ready. It can take some minutes but also a few hours, depending on the current workload in the Techzone or in the Cloud. Once you get that email, just click on the link that will lead you to the OpenShift console or, alternatively, you may go to the TechZone, display your reservations and select the system which has been just provisioned. In order to get access to the  OpenShift console, just click on the blue button:\n",
    "\n",
    "![](../pictures/accesstoconsole.png)\n",
    "\n",
    "\n"
   ]
  },
  {
   "cell_type": "markdown",
   "metadata": {},
   "source": [
    "## 2. Other Options\n",
    "\n",
    "RedHat has other possibilities to access an OpenShift cluster in a trial mode. You can explore your options [here](https://www.redhat.com/en/technologies/cloud-computing/openshift/try-it)"
   ]
  },
  {
   "cell_type": "markdown",
   "metadata": {},
   "source": [
    "## 3. Download `oc` and `helm`\n",
    "\n"
   ]
  },
  {
   "cell_type": "markdown",
   "metadata": {},
   "source": [
    "As mentioned in the [previous section](./0_prerequisites.ipynb) `oc` and `helm` can be easily downloaded from the OpenShift console. Just open the Openshift console and proceed as indicated in the following pictures\n",
    "\n",
    "![](../pictures/console4download.png)\n",
    "\n",
    "![](../pictures/ocandhelm.png)"
   ]
  },
  {
   "attachments": {},
   "cell_type": "markdown",
   "metadata": {},
   "source": [
    "At the time of writing these instructions, these were the direct links used during the workshop:\n",
    "\n",
    "- https://mirror.openshift.com/pub/openshift-v4/x86_64/clients/ocp/stable-4.10/\n",
    "\n",
    "- https://mirror.openshift.com/pub/openshift-v4/x86_64/clients/helm/latest/\n",
    "\n",
    "You can try and download the executables for your system from those links but remember that they may have changed now."
   ]
  },
  {
   "cell_type": "markdown",
   "metadata": {},
   "source": [
    "Run the following commands to verify that `oc` and `helm` are accesible:"
   ]
  },
  {
   "cell_type": "code",
   "execution_count": null,
   "metadata": {
    "vscode": {
     "languageId": "shellscript"
    }
   },
   "outputs": [],
   "source": [
    "oc version "
   ]
  },
  {
   "cell_type": "code",
   "execution_count": null,
   "metadata": {
    "scrolled": true,
    "vscode": {
     "languageId": "shellscript"
    }
   },
   "outputs": [],
   "source": [
    "# Display the version of helm\n",
    "helm version"
   ]
  },
  {
   "cell_type": "markdown",
   "metadata": {},
   "source": [
    "\n",
    "---\n",
    "\n",
    "Next Section: [Databand deployment](./2_databand_deploy.ipynb).   Previous Section: [Prerequisites](./0_prerequisites.ipynb)\n",
    "\n",
    "[Return to main](../README.md)\n"
   ]
  }
 ],
 "metadata": {
  "kernelspec": {
   "display_name": "Bash",
   "language": "bash",
   "name": "bash"
  },
  "language_info": {
   "codemirror_mode": "shell",
   "file_extension": ".sh",
   "mimetype": "text/x-sh",
   "name": "bash"
  },
  "vscode": {
   "interpreter": {
    "hash": "7368f8049dce8465172f72d10d47a2dfc42fece53149f0d9b8e5b39df520afe5"
   }
  }
 },
 "nbformat": 4,
 "nbformat_minor": 2
}
